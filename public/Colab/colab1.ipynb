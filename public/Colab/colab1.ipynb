{
  "cells": [
    {
      "cell_type": "markdown",
      "metadata": {
        "id": "Al4FdSg0A2mg"
      },
      "source": [
        "# Ch3 資料與變數\n"
      ]
    },
    {
      "cell_type": "markdown",
      "metadata": {
        "id": "krRmXQdEByQY"
      },
      "source": [
        "## 挑戰題目:  電影魔球的相關資訊\n",
        "\n",
        "**魔球這部電影到底值不值得看？老闆請你把和這部電影相關的資訊整理出來讓他可以做判斷。**"
      ]
    },
    {
      "cell_type": "code",
      "execution_count": null,
      "metadata": {
        "colab": {
          "base_uri": "https://localhost:8080/"
        },
        "id": "zubmb1zQFXBT",
        "outputId": "0e07f077-3848-4dc6-e602-11e5fcfef48e"
      },
      "outputs": [
        {
          "name": "stdout",
          "output_type": "stream",
          "text": [
            "money ball\n",
            "2011\n",
            "133\n"
          ]
        }
      ],
      "source": [
        "## 1. 從IMBD電影資料庫找出要記錄的魔球電影相關資訊\n",
        "## 網址：https://www.imdb.com/title/tt1210166/\n",
        "## 相關資訊：電影名稱、放映日期......\n",
        "\n",
        "## 2. 在Python用變數儲存資訊\n",
        "movie_title = \"money ball\" # 電影名稱，文字\n",
        "release_year = \"2011\"      # 放映日期，文字\n",
        "movie_time_min = 133       # 片長、數字\n",
        "movie_rating = 7.6         # 評分、數字\n",
        " \n",
        "director = \"Bennett Miller\" # 導演、文字\n",
        "stars_1 = \"Brad Pitt\"       # 主要演員、文字\n",
        "stars_2 = \"Robin Wright\"    # 主要演員、文字\n",
        "stars_3 = \"Jonah Hill\"      # 主要演員、文字\n",
        " \n",
        "like = True # 喜不喜歡      # 按個讚、布林值\n",
        " \n",
        "## 3. 印出魔球電影的相關資訊\n",
        "print(movie_title)         # 螢幕列印\n",
        "print(release_year) \n",
        "print(movie_time_min)"
      ]
    },
    {
      "cell_type": "markdown",
      "metadata": {
        "id": "YK0jIk-gCI5A"
      },
      "source": [
        "## 3-1.資料類型 "
      ]
    },
    {
      "cell_type": "markdown",
      "metadata": {
        "id": "grLfv4WDFC1Y"
      },
      "source": [
        "### 3-1-1 數字、文字和布林\n",
        "\n",
        "資料分成數字numeric（整數integer、浮點數float）、文字character（字串string）與布林Boolean（True與False）三種類型。\n"
      ]
    },
    {
      "cell_type": "markdown",
      "metadata": {
        "id": "Eg28KZ_cCb-S"
      },
      "source": [
        "**範例1：三種常見的資料類型**"
      ]
    },
    {
      "cell_type": "code",
      "execution_count": null,
      "metadata": {
        "id": "cvX0NcEdFC1Y"
      },
      "outputs": [],
      "source": []
    },
    {
      "cell_type": "markdown",
      "metadata": {
        "id": "E2RVXraCFC1Y"
      },
      "source": [
        "### 3-1-2  數值資料型態\n",
        "\n",
        "數字：數值資料型態分成整數(integer)與浮點數(float)兩種。"
      ]
    },
    {
      "cell_type": "markdown",
      "metadata": {
        "id": "VF6rHO_gFC1Z"
      },
      "source": [
        "**範例 2：數字**"
      ]
    },
    {
      "cell_type": "code",
      "execution_count": null,
      "metadata": {
        "id": "G8VebbqJFC1Z"
      },
      "outputs": [],
      "source": []
    },
    {
      "cell_type": "markdown",
      "metadata": {
        "id": "3rgYyQKgFC1Z"
      },
      "source": [
        "### 3-1-3  文字資料型態\n",
        "\n",
        "文字：字串(string)是由一連串有順序的字元所組成的序列(sequence)。 \n",
        "\n",
        "在Python中，我們使用單引號或雙引號來建立文字字串（str）。 \n",
        "\n",
        "- 要成雙成對的出現\n",
        "- 單雙引號不能混用。"
      ]
    },
    {
      "cell_type": "markdown",
      "metadata": {
        "id": "t9t5wtpwFC1Z"
      },
      "source": [
        "**範例 3：文字字串**"
      ]
    },
    {
      "cell_type": "code",
      "execution_count": null,
      "metadata": {
        "id": "mUmW17bfFC1a"
      },
      "outputs": [],
      "source": []
    },
    {
      "cell_type": "markdown",
      "metadata": {
        "id": "azKJcJHDFC1a"
      },
      "source": [
        "### 3-1-4 布林資料型態\n",
        "\n",
        "布林：布林值(Boolean value)就是邏輯值。\n",
        "\n",
        "布林值只有 True 與 False 兩個值。\n",
        "\n"
      ]
    },
    {
      "cell_type": "markdown",
      "metadata": {
        "id": "xNBBn2HnFC1a"
      },
      "source": [
        "**範例 4：布林值(一)**"
      ]
    },
    {
      "cell_type": "code",
      "execution_count": null,
      "metadata": {
        "id": "DzFk4F5jFC1b"
      },
      "outputs": [],
      "source": []
    },
    {
      "cell_type": "markdown",
      "source": [
        "\n",
        "**範例5：布林值（二）**"
      ],
      "metadata": {
        "id": "KuOa4PxB_1KW"
      }
    },
    {
      "cell_type": "code",
      "source": [],
      "metadata": {
        "id": "ZNw0hnYl_2ib"
      },
      "execution_count": null,
      "outputs": []
    },
    {
      "cell_type": "markdown",
      "metadata": {
        "id": "E2hV7LZADInQ"
      },
      "source": [
        "## 3-2.變數賦值\n",
        "\n",
        "將輸入的資料，儲存在電腦的記憶體中，供日後處理資料與輸出資料之用。"
      ]
    },
    {
      "cell_type": "markdown",
      "metadata": {
        "id": "Od3t2o6yFC1c"
      },
      "source": [
        "### 3-2-1  觀念: 用變數儲存資料\n",
        "\n",
        "數賦值的語法：變數名字 = 變數值\n",
        "\n",
        "=> 變數一二三\n",
        "- 用一個特殊符號等號`=`建立變數；\n",
        "- 等號的兩邊要給東西，左邊給名字、右邊給資料；\n",
        "- 名字、等號、資料三樣物件表示變數。"
      ]
    },
    {
      "cell_type": "markdown",
      "metadata": {
        "id": "hbknTxstFC1c"
      },
      "source": [
        "### 3-2-2  建立變數\n",
        "\n",
        "【觀念】 將「變數」想像成一個「容器」，它是專門用來「儲放資料」的地方。 \n",
        "\n",
        "用等號`=`建立變數，要給名字與資料（變數名稱 = 變數的值)。"
      ]
    },
    {
      "cell_type": "markdown",
      "metadata": {
        "id": "76uPGOTeFC1c"
      },
      "source": [
        "**範例 6：變數賦值**"
      ]
    },
    {
      "cell_type": "code",
      "execution_count": null,
      "metadata": {
        "id": "xRWdt9w8FC1c"
      },
      "outputs": [],
      "source": []
    },
    {
      "cell_type": "markdown",
      "metadata": {
        "id": "ROnCRpDNFpYe"
      },
      "source": [
        "**【隨堂練習1】 請判斷下列程式是否正確？如果有誤，請說明其原因。** \n",
        "\n",
        "```{Python}\n",
        "Sum = 0\n",
        "A = 1\n",
        "2 = B \n",
        "A + B = Sum  \n",
        "A, B = 1, 2 \n",
        "```"
      ]
    },
    {
      "cell_type": "code",
      "execution_count": null,
      "metadata": {
        "id": "PUhkPTkdFfGe"
      },
      "outputs": [],
      "source": []
    },
    {
      "cell_type": "markdown",
      "metadata": {
        "id": "bo0woZYOFC1c"
      },
      "source": [
        "### 3-2-3 選個好名字\n",
        "\n",
        "變數命名要符合規定。\n",
        "\n",
        "- 變數的名字可以用數字、底線或英文字母。\n",
        "    - 不能以數字開頭。\n",
        "    - 除了底線，不能使用其他【特殊符號】做名字。\n",
        "        - 特殊符號例如`!、@、#、$...`\n",
        "    - 使用英文字母\n",
        "        - 不建議用中文命名變數。\n",
        "        - 注意英文字母大小寫，即A與a是不同的變數。 \n",
        "- 不能有空格、不能用Python【保留字】做為變數名稱。"
      ]
    },
    {
      "cell_type": "markdown",
      "metadata": {
        "id": "rV5JL472FvoE"
      },
      "source": [
        "**【隨堂練習2】 請判斷下列變數名稱是否正確？如果有誤，請說明其原因。** \n",
        "\n",
        "```{Python}\n",
        "_index\n",
        "data01\n",
        "width\n",
        "department_no\n",
        "\n",
        "3_pass     \n",
        "while     \n",
        "$money    \n",
        "pass word \n",
        "```"
      ]
    },
    {
      "cell_type": "code",
      "execution_count": null,
      "metadata": {
        "id": "Y3_YXEl8Fd7K"
      },
      "outputs": [],
      "source": []
    },
    {
      "cell_type": "markdown",
      "metadata": {
        "id": "nHxA7x5aYFfd"
      },
      "source": [
        "## 3-3. 其他 \n",
        "\n",
        "### 3-3-1 資料類型的判斷"
      ]
    },
    {
      "cell_type": "markdown",
      "metadata": {
        "id": "L2R4J9VPYLl-"
      },
      "source": [
        "**使用`type()函數`可以判斷到底資料是哪一種型別。**"
      ]
    },
    {
      "cell_type": "markdown",
      "metadata": {
        "id": "5XZC6srNYacs"
      },
      "source": [
        "**範例 7：用type()判斷資料類型**"
      ]
    },
    {
      "cell_type": "code",
      "execution_count": null,
      "metadata": {
        "id": "oOAwNwi4YqKm"
      },
      "outputs": [],
      "source": []
    },
    {
      "cell_type": "markdown",
      "metadata": {
        "id": "u0Zy8JC4Yq8d"
      },
      "source": [
        "### 3-3-2 程式註解"
      ]
    },
    {
      "cell_type": "markdown",
      "metadata": {
        "id": "Mfj2oNUWYwtq"
      },
      "source": [
        "程式的好壞在於是否每一個人都看得懂你寫的程式。要人看懂程式，加註解是個好方法。"
      ]
    },
    {
      "cell_type": "markdown",
      "metadata": {
        "id": "vPHuZY2gBWEc"
      },
      "source": [
        "# Ch 4 輸入與輸出"
      ]
    },
    {
      "cell_type": "markdown",
      "metadata": {
        "id": "6sm7Rm25Y8LG"
      },
      "source": [
        "**學習目標**\n",
        "\n",
        "同學要瞭解的觀念有：\n",
        "\n",
        "(1) 輸入資料的指令是什麼，怎麼使用? \n",
        "\n",
        "(2) 輸出資料的指令是什麼，怎麼使用? "
      ]
    },
    {
      "cell_type": "markdown",
      "metadata": {
        "id": "0h5fEePcQOOL"
      },
      "source": [
        "## 4-1.輸入指令 input()函數"
      ]
    },
    {
      "cell_type": "markdown",
      "metadata": {
        "id": "iprKVQ-yQ0AB"
      },
      "source": [
        "### 4-1-1 使用者輸入資料\n",
        "\n",
        "input()函數是使用者利用鍵盤輸入程式所需要的資料，把使用者所輸入的數值、字元或字串等資料傳送給指定的變數，並透過變數賦值的方式將資料儲存在電腦記憶體中。"
      ]
    },
    {
      "cell_type": "markdown",
      "metadata": {
        "id": "1PppsA5RQ3HK"
      },
      "source": [
        "**範例 1：讓使用者輸入自己的名字**"
      ]
    },
    {
      "cell_type": "code",
      "execution_count": null,
      "metadata": {
        "id": "qUSS4Bb5Z0aS"
      },
      "outputs": [],
      "source": []
    },
    {
      "cell_type": "markdown",
      "metadata": {
        "id": "5aaV48GARAEH"
      },
      "source": [
        "**【隨堂練習1】**\n",
        "\n",
        "請寫一段程式，輸出結果如下所示：\n",
        "\n",
        "```\n",
        "請輸入你的年齡： 18\n",
        "18\n",
        "```"
      ]
    },
    {
      "cell_type": "code",
      "execution_count": null,
      "metadata": {
        "id": "OC0qR3I-Z9fl"
      },
      "outputs": [],
      "source": []
    },
    {
      "cell_type": "markdown",
      "metadata": {
        "id": "lBmyb-cHRcPZ"
      },
      "source": [
        "### 1-2 輸入資料預設為字串\n",
        "\n",
        "input() 函數像打字機一樣。\n",
        "\n",
        "- 使用者輸入的資料是以文字字串的型態儲存。        \n",
        "- 即使輸入數字資料，電腦也是把整數與浮點數當成字串。 \n",
        "- 文字字串，不可以做數學運算，否則會得到錯誤訊息。     \n",
        "\n"
      ]
    },
    {
      "cell_type": "markdown",
      "metadata": {
        "id": "7mMQkrCMRvEX"
      },
      "source": [
        "**範例 2：文字字串的限制**"
      ]
    },
    {
      "cell_type": "code",
      "execution_count": null,
      "metadata": {
        "id": "smZvcy4neu6e"
      },
      "outputs": [],
      "source": []
    },
    {
      "cell_type": "markdown",
      "metadata": {
        "id": "jiYEDgXsfOIP"
      },
      "source": [
        "### 1-3 資料型態的轉換\n",
        "\n",
        "**1. 自動型態轉換**是由直譯器自行判斷應轉換成何種資料型態。"
      ]
    },
    {
      "cell_type": "markdown",
      "metadata": {
        "id": "yD6AHWA0fYab"
      },
      "source": [
        "**範例3：自動轉換資料型態**"
      ]
    },
    {
      "cell_type": "code",
      "execution_count": null,
      "metadata": {
        "id": "-7cdbWhLfjvE"
      },
      "outputs": [],
      "source": []
    },
    {
      "cell_type": "markdown",
      "metadata": {
        "id": "mtfplFf_R3Mi"
      },
      "source": [
        "**2. 強制轉換資料**\n",
        "\n",
        "用下面的函數可以轉換資料類型。\n",
        "\n",
        "- `int()函數`：轉換純量為整數類型(integer)\n",
        "- `float()函數`：轉換純量為浮點數類型(float)\n",
        "- `str()函數`：轉換純量為文字類型(string)\n",
        "- `bool()函數`：轉換純量為布林類型(bool)"
      ]
    },
    {
      "cell_type": "markdown",
      "metadata": {
        "id": "-7yD12wuhL7x"
      },
      "source": []
    },
    {
      "cell_type": "markdown",
      "metadata": {
        "id": "AfI5tSRMSi55"
      },
      "source": [
        "**範例 4：強制資料轉換**"
      ]
    },
    {
      "cell_type": "code",
      "execution_count": null,
      "metadata": {
        "id": "mXfu77jTgMtt"
      },
      "outputs": [],
      "source": []
    },
    {
      "cell_type": "markdown",
      "metadata": {
        "id": "KEt2-bf5CO21"
      },
      "source": [
        "## 4-2.輸出指令：print()函數"
      ]
    },
    {
      "cell_type": "markdown",
      "metadata": {
        "id": "owJDb0mCFC1e"
      },
      "source": [
        "### 4-2-1 螢幕列印\n",
        "\n",
        "- print函數的英文字母都是小寫。\n",
        "- print 後面要緊跟著小括號 ( ) 。\n",
        "- 括號中可以是字串、數字、變數名稱、運算式等等物件。"
      ]
    },
    {
      "cell_type": "markdown",
      "metadata": {
        "id": "lrLWEKcZFC1e"
      },
      "source": [
        "**範例 5：列印單一物件**"
      ]
    },
    {
      "cell_type": "code",
      "execution_count": null,
      "metadata": {
        "id": "k3RPhV8iFC1e"
      },
      "outputs": [],
      "source": []
    },
    {
      "cell_type": "markdown",
      "metadata": {
        "id": "bQwn7JJ1FC1e"
      },
      "source": [
        "**範例 6：列印多物件**"
      ]
    },
    {
      "cell_type": "code",
      "execution_count": null,
      "metadata": {
        "id": "9RxSsk0DFC1e"
      },
      "outputs": [],
      "source": []
    },
    {
      "cell_type": "markdown",
      "metadata": {
        "id": "As3wh7q-FQpZ"
      },
      "source": [
        "**【隨堂練習2：單變數的螢幕列印】**\n",
        "\n",
        "```\n",
        "a = 33          # 整數型態\n",
        "b = 6.8         # 浮點數\n",
        "c = \"abc\"       # 文字串型態, 前後加雙引號\n",
        "d = True        # 布林資料\n",
        "```\n",
        "\n",
        "(1)列印出變數a, b, c, d的值\n",
        "\n",
        "(2)列印出兩變數相加a+b的值"
      ]
    },
    {
      "cell_type": "code",
      "execution_count": null,
      "metadata": {
        "id": "xq0dpjIAFC1f"
      },
      "outputs": [],
      "source": []
    },
    {
      "cell_type": "markdown",
      "metadata": {
        "id": "Jsb-KvclDNep"
      },
      "source": [
        "### 2-2.格式化列印\n",
        "\n",
        "**f-strings格式化輸出**\n",
        "\n",
        "- 從 Python3.6 ，列印多個物件時，有格式化文字字串`f-strings`的新方法，這個方法最簡單。\n",
        "\n",
        "- 在print()函數的小括號中，先打`f`，然後用成雙成對的（單）雙引號連接，裡面放要印出的文字字串，並將變數名稱放到大括號中，即可印出變數賦值的資料內容，如`{variable name}`。"
      ]
    },
    {
      "cell_type": "markdown",
      "metadata": {
        "id": "8jrJwGXCFC1f"
      },
      "source": [
        "**範例 7：情緒變數**\n",
        "\n",
        "通常，我們的心情每天每分每秒都在變化。某天我們可能精力充沛，隔天我們可能感覺非常疲憊；或者今天是星期五，大多數的人都非常快樂！無論我們的心情如何，我們都可以使用變數保存它。"
      ]
    },
    {
      "cell_type": "code",
      "execution_count": null,
      "metadata": {
        "id": "PrRuqTzXFC1g"
      },
      "outputs": [],
      "source": []
    },
    {
      "cell_type": "markdown",
      "metadata": {
        "id": "Vl2nU0qyiNtv"
      },
      "source": [
        "☻加分題：列印出『什麼商品價格為何』的字樣！☻\n",
        "\n",
        "多益題庫大全商品價格為500元\n",
        "國小單字入門手冊商品價格為45元\n",
        "英檢初級集中集合輯商品價格為125.85元"
      ]
    },
    {
      "cell_type": "code",
      "execution_count": null,
      "metadata": {
        "id": "FXyRz5JkiZ14"
      },
      "outputs": [],
      "source": []
    },
    {
      "cell_type": "markdown",
      "metadata": {
        "id": "WdcsAWHtF3vM"
      },
      "source": [
        "**【隨堂練習3】：滑稽故事**\n",
        "\n",
        "你玩過Mad Libs這種紙上遊戲嗎？這是一個有趣的遊戲，你要求另一個人給你各種類型單字，例如：顏色、數字、形容詞等，並且將這些單字填補到短篇故事中的空白處，當空白處填完畢後，你朗誦整段故事給他們聽，大多時候，這些故事真的變得很滑稽。\n",
        "\n",
        "大家該做什麼\n",
        "\n",
        "我們知道可以使用f字串替換字串的某些部分，編寫一個程式，輸出你那荒謬的、來自朋友的故事。\n",
        "\n",
        "以下是開始的步驟：\n",
        "\n",
        "Step 1: 創立一個新檔來儲存滑稽故事的程式。\n",
        "\n",
        "Step 2: 創立四到五個不同類型單字的變數。例如下面並儲存這些變數在檔案中。\n",
        "\n",
        "```\n",
        "name = \"\"\n",
        "adjective = \"\"\n",
        "favorite_snack = \"\"\n",
        "number = \"\"\n",
        "type_of_tree = \"\"\n",
        "```\n",
        "\n",
        "請注意，我們尚未指派變數的任何值。這裡就是之後填入朋友提供你的單字之處。\n",
        "\n",
        "Step3: 創立另一個變數保存你的滑稽故事，你可以使用此模版或編寫你自己的模版：\n",
        "\n",
        "```\n",
        "silly_story = f\"\"\"\n",
        "Hi, my name is {name}.\n",
        "I really like {adjective}{favorite_snack}!\n",
        "I like it so much, I try to eat it at least {number} times every day.\n",
        "It tastes even better when you eat it under a {type_of_tree}!\n",
        "\"\"\"\n",
        "```\n",
        "\n",
        "Step4: 最後，使用print()函式輸出你的滑稽故事：\n",
        "\n",
        "```\n",
        "print(silly_story)\n",
        "```\n",
        "\n",
        "這樣就完成了！現在去找朋友，要求他們給一些單字（你的變數）。將變數更改為朋友給你的單字，儲存程式然後執行它，看看你的滑稽故事。"
      ]
    },
    {
      "cell_type": "code",
      "execution_count": null,
      "metadata": {
        "id": "0mVPucTgISdW"
      },
      "outputs": [],
      "source": []
    },
    {
      "cell_type": "markdown",
      "metadata": {
        "id": "hslu503diiTK"
      },
      "source": [
        "# Ch 5資料的運算"
      ]
    },
    {
      "cell_type": "markdown",
      "metadata": {
        "id": "OeT8arvRFC1g"
      },
      "source": [
        "## 5-1.  運算子與函數\n",
        "\n",
        "常見的資料操作有運算子與函數兩種模式。\n",
        "\n",
        "運算式(Expression)是由運算元(Operand)與運算子(Operator)所組成。"
      ]
    },
    {
      "cell_type": "markdown",
      "metadata": {
        "id": "SP_imGJBGE2r"
      },
      "source": [
        "## 2.數值資料的運算\n",
        "\n",
        "### 2-1 算數運算子\n",
        "\n",
        "常用的數學運算符號有七種：加、減、乘、除、次方(**)、餘數(%)與商數(//)。\n",
        "\n",
        "數學運算的優先順和數學習慣相同：先乘除後加減，由左向右、有括號先算括號。\n",
        "\n",
        " "
      ]
    },
    {
      "cell_type": "markdown",
      "metadata": {
        "id": "DGDMIr3hFC1h"
      },
      "source": [
        "**範例 1：七種算數運算子運算**"
      ]
    },
    {
      "cell_type": "code",
      "execution_count": null,
      "metadata": {
        "id": "Wrlyy24zFC1h"
      },
      "outputs": [],
      "source": []
    },
    {
      "cell_type": "markdown",
      "metadata": {
        "id": "CrMcvlVhG1NG"
      },
      "source": [
        "【隨堂練習1：統計人數】\n",
        "\n",
        "假期結束了，方老師問班上同學們：誰在寒假裡看過『上陽賦』？有一半同學舉手。又問：誰看過『哲仁皇后』？有五分之二的同學舉手。方老師發現，又7位同學兩部都看過。張小青去爺爺家，沒有網路，兩部劇都沒有看過。所以，他問老師：這兩部都沒看過的同學，要不要舉手讓您數一數呢？方老師笑說：不用了，我已經知道答案了。請問如果班上有50位同學，那麼多少人兩部都沒看過呢。"
      ]
    },
    {
      "cell_type": "code",
      "execution_count": null,
      "metadata": {
        "id": "i2W27PUnFC1h"
      },
      "outputs": [],
      "source": []
    },
    {
      "cell_type": "markdown",
      "metadata": {
        "id": "kTKKmXvqkbpD"
      },
      "source": [
        "### 2-2 算數指定運算子\n",
        "\n",
        "指定運算子就是變數賦值中的等號 `=`\n",
        "\n",
        "**算術指定運算子，為指定運算子和算術運算子的綜合。**\n"
      ]
    },
    {
      "cell_type": "markdown",
      "metadata": {
        "id": "M_nNpZCekrhL"
      },
      "source": [
        "###  2-3. 運算的優先順序\n",
        "\n",
        "數學運算的優先順和數學習慣相同：先乘除後加減，由左向右、有括號先算括號。\n"
      ]
    },
    {
      "cell_type": "markdown",
      "metadata": {
        "id": "qjK7PwOZk-vP"
      },
      "source": [
        "**範例 2：請利用Python計算(23+32)×4，以及9開三次方?**\n"
      ]
    },
    {
      "cell_type": "code",
      "execution_count": null,
      "metadata": {
        "id": "McElSDIFlMy3"
      },
      "outputs": [],
      "source": []
    },
    {
      "cell_type": "markdown",
      "metadata": {
        "id": "-e6Ngjr--dXJ"
      },
      "source": [
        "☻加分題：小猴子摘水果☻\n",
        "\n",
        "有一天，一隻小猴子來到果園裡，牠走到蘋果樹下，看到滿樹的蘋果，就爬上去摘了2個。又看到不遠的地方有一個梨子樹，又大又黃，就丟掉蘋果，爬到梨子樹摘了1個梨子。正準備吃的時候，看到前方又紅又大的桃子樹，就又高高興興地跑到桃樹上，摘了3個桃子。這時傳來小鳥的叫聲，鳥在香蕉樹上，小猴子當然就立馬飛奔去摘香蕉，最後吃了6根香蕉。請問這隻猴子總共摘了多少個水果，手中最後的水果是什麼？請你用Python記錄一下！"
      ]
    },
    {
      "cell_type": "code",
      "execution_count": null,
      "metadata": {
        "id": "56ujy5a3-dXJ"
      },
      "outputs": [],
      "source": []
    },
    {
      "cell_type": "markdown",
      "metadata": {
        "id": "CIedqQPLGZiq"
      },
      "source": [
        "## 5-3. 文字資料的處理\n",
        "\n",
        "### 5-3-1 文字運算子\n",
        "\n",
        "使用 「+」 串接字串，可以將兩個字串合併成一個字串。\n",
        "\n",
        "使用「`*`」複製字串，執行「字串 * 2」會複製字串一份串接原來字串的後面，執行「字串 * 3」會複製字串兩份串接原來字串的後面，依此類推。|\n",
        "\n",
        "串接多行 使用「' \\ '」串接多行"
      ]
    },
    {
      "cell_type": "markdown",
      "metadata": {
        "id": "ZnrE_XnZFC1i"
      },
      "source": [
        "**範例3：文字運算子的運算**"
      ]
    },
    {
      "cell_type": "code",
      "execution_count": null,
      "metadata": {
        "id": "g442FPFFFC1i"
      },
      "outputs": [],
      "source": []
    },
    {
      "cell_type": "markdown",
      "metadata": {
        "id": "xGPf5r7OGmq_"
      },
      "source": [
        "**【隨堂練習2】：真心話大冒險**\n",
        "\n",
        "玩家回答電腦提出的問題，然後用程式把玩家的回答連接起來，並且重複三次輸出。"
      ]
    },
    {
      "cell_type": "code",
      "execution_count": null,
      "metadata": {
        "id": "bSXg-NUEFC1i"
      },
      "outputs": [],
      "source": []
    },
    {
      "cell_type": "markdown",
      "metadata": {
        "id": "Mo2vN7-Clslr"
      },
      "source": [
        "**範例 4：文字的特殊列印**"
      ]
    },
    {
      "cell_type": "code",
      "execution_count": null,
      "metadata": {
        "id": "qS0AXYV8mIk4"
      },
      "outputs": [],
      "source": []
    },
    {
      "cell_type": "markdown",
      "source": [
        "☻加分題：猜猜看，印出的結果是什麼☻\n",
        "\n",
        "```\n",
        "# 成雙成對的雙引號\n",
        "print(\"Bigflower \" Francis\")\n",
        "print(\"Bigflower \\\" Francis\")\n",
        "print(\"Bigflower ' Francis\")\n",
        "\n",
        "# 成雙成對的單引號\n",
        "print('Bigflower ' Francis')\n",
        "print('Bigflower \" Francis')\n",
        "print('Bigflower \\' Francis')\n",
        "```"
      ],
      "metadata": {
        "id": "7tRPTDV8C1ED"
      }
    },
    {
      "cell_type": "markdown",
      "metadata": {
        "id": "bGuwUWgjmR2n"
      },
      "source": [
        "**【隨堂練習3】中文字串的（特殊）列印**\n",
        "\n",
        "請印出下面的詩\n",
        "\n",
        "```\n",
        "春眠不覺曉，處處聞啼鳥。\n",
        "夜來風雨聲，花落知多少。\n",
        "\t作者\"孟浩然\" 詩名\"春曉\"\n",
        "```\n"
      ]
    },
    {
      "cell_type": "code",
      "execution_count": null,
      "metadata": {
        "id": "ma106oiSmZIw"
      },
      "outputs": [],
      "source": []
    },
    {
      "cell_type": "markdown",
      "metadata": {
        "id": "GabAdJqqmlF5"
      },
      "source": [
        "### 5-3-2 索引與切片"
      ]
    },
    {
      "cell_type": "markdown",
      "metadata": {
        "id": "V27UOEyjPE0d"
      },
      "source": [
        "**1. 索引(index)表示物件的位置。**\n",
        "\n",
        "如果要存取某物件時，可以使用中括號[ ]，並在裡面指出是那個位置包含了我們想要的物件。即[位置索引]。\n",
        "\n",
        "- 正數索引值：由左到右索引，從0開始。\n",
        "- 負數索引值：由右到左索引，從-1開始。"
      ]
    },
    {
      "cell_type": "markdown",
      "metadata": {
        "id": "bNYprChwmyhh"
      },
      "source": [
        "**範例 5：索引**\n",
        "\n",
        "Python 基礎必修課"
      ]
    },
    {
      "cell_type": "code",
      "execution_count": null,
      "metadata": {
        "id": "dj2t6-LInXR_"
      },
      "outputs": [],
      "source": []
    },
    {
      "cell_type": "markdown",
      "metadata": {
        "id": "Qfir2LA6PW6u"
      },
      "source": [
        "**2. 切片(slice)，挑選特定範圍物件所採取的方法。**\n",
        "\n",
        "如果要挑選特定範圍的物件時，可以使用中括號[ ]，並在裡面透過一個冒號(:)字元，將分割範圍(slicing range)標明。\n",
        "\n",
        "(1) [起始索引：結束索引]。\n",
        "\n",
        "- 起始索引(start)，切片從這個索引開始。\n",
        "    - 沒有起始索引值，切片是從頭開始。\t\n",
        "- 冒號：告訴電腦，我們正在切片。\n",
        "- 結束索引(stop)，切片到這個索引結束。\n",
        "    - 沒有結束索引值，切片是到尾結束。\n",
        "\n",
        "(2) [起始索引：結束索引：間隔索引]"
      ]
    },
    {
      "cell_type": "code",
      "execution_count": null,
      "metadata": {
        "id": "molWNSTIm-ym"
      },
      "outputs": [],
      "source": []
    },
    {
      "cell_type": "markdown",
      "metadata": {
        "id": "KjrfZBm9P_Hy"
      },
      "source": [
        "**範例6：切片**\n",
        "\n",
        "Python 基礎必修課"
      ]
    },
    {
      "cell_type": "code",
      "execution_count": null,
      "metadata": {
        "id": "bAVKGHk3PWQ6"
      },
      "outputs": [],
      "source": []
    },
    {
      "cell_type": "markdown",
      "metadata": {
        "id": "xmONUpx6noFk"
      },
      "source": [
        "☻加分題：字串切片- 秘密約定☻\n",
        "\n",
        "小方收到小青發來的一段文字，和一組無規律數字(209, 1-3, 20, 102, 201, 181-183, 31, 195, 210, 221)\n",
        "\n",
        "小方這是我給你寫的一封密信，其中包含著一個我和你的神秘約定，就看你能不能解讀出來了，下午放學後可以仔細研究一下，呵呵。提示一下，你用我給你的一組數字，依次提取這段文字中對應文字，串連起來就差不多了，我想得周到吧。這個約定到底和什麼事情有關呢？我可不喜歡你用笨方法一個一個地數著文字去找，我希望你能用你學習的Python語言，編制一個小程序來解讀出我們之間的秘密。我們到底是不是來電閨蜜，就看電腦水平了。末了說一句：我的小影子，記得要不見不散呦!"
      ]
    },
    {
      "cell_type": "code",
      "execution_count": null,
      "metadata": {
        "id": "vMo1-dy5nzy0"
      },
      "outputs": [],
      "source": []
    },
    {
      "cell_type": "markdown",
      "source": [
        "# Ch 6熟能生巧應用"
      ],
      "metadata": {
        "id": "cprls-e7DtSx"
      }
    },
    {
      "cell_type": "markdown",
      "metadata": {
        "id": "EZdY7WbpoC8a"
      },
      "source": [
        "\n",
        "\n",
        "## 6-1-1 input()函數與數學運算\n",
        "\n",
        "(1)不同資料類型有不同的運算方法。"
      ]
    },
    {
      "cell_type": "markdown",
      "metadata": {
        "id": "h1JviDbkoN6h"
      },
      "source": [
        "**【隨堂練習 1】: total1, total2與total3這三個變數的答案是什麼？為什麼？？**"
      ]
    },
    {
      "cell_type": "markdown",
      "source": [],
      "metadata": {
        "id": "WZrjgTucDrzo"
      }
    },
    {
      "cell_type": "code",
      "execution_count": null,
      "metadata": {
        "id": "pLkbLrgvoWHf"
      },
      "outputs": [],
      "source": []
    },
    {
      "cell_type": "markdown",
      "metadata": {
        "id": "cEuxyJGZoYx4"
      },
      "source": [
        "(2) 用input()函數輸入的資料是文字字串；若要做數學運算，必須先強制轉換資料型態。"
      ]
    },
    {
      "cell_type": "markdown",
      "metadata": {
        "id": "sEmf_aboohO5"
      },
      "source": [
        "**範例 1：將文字轉數字作數學運算**"
      ]
    },
    {
      "cell_type": "code",
      "execution_count": null,
      "metadata": {
        "id": "FGM2SYcyoqD2"
      },
      "outputs": [],
      "source": []
    },
    {
      "cell_type": "markdown",
      "metadata": {
        "id": "pwv5haAEowJd"
      },
      "source": [
        "(3)要使用int(), float(), eval()函式，將文字資料轉換成數值資料的型態。"
      ]
    },
    {
      "cell_type": "markdown",
      "metadata": {
        "id": "bNNqB9_Yo05c"
      },
      "source": [
        "**範例 2：三種強制轉換資料型態的函**"
      ]
    },
    {
      "cell_type": "code",
      "execution_count": null,
      "metadata": {
        "id": "cfGtkAxBo9HF"
      },
      "outputs": [],
      "source": []
    },
    {
      "cell_type": "markdown",
      "metadata": {
        "id": "XwZGnVoBo_w6"
      },
      "source": [
        "**【隨堂練習2】: 輸入資料做應用** \n",
        "\n",
        "請用input函數輸入產品的價格，有整數也有小數，然後列印漲價10元之後，產品的價格是多少？"
      ]
    },
    {
      "cell_type": "code",
      "execution_count": null,
      "metadata": {
        "id": "CALoery9pF5T"
      },
      "outputs": [],
      "source": []
    },
    {
      "cell_type": "markdown",
      "metadata": {
        "id": "LrkAgHqvpJKq"
      },
      "source": [
        "## 1-2 應用練習題"
      ]
    },
    {
      "cell_type": "markdown",
      "metadata": {
        "id": "hXPpCzYUUKSg"
      },
      "source": [
        "**範例3: 計算圓面積與圓周長**\n",
        "\n",
        "請設計一個程式計算圓面積與圓周長，依輸入的半徑計算圓面積與圓周長。"
      ]
    },
    {
      "cell_type": "code",
      "execution_count": null,
      "metadata": {
        "id": "vhHm9VJuUWZ-"
      },
      "outputs": [],
      "source": []
    },
    {
      "cell_type": "markdown",
      "metadata": {
        "id": "iMzHAQXPUj2E"
      },
      "source": [
        " ☻加分題：攝氏轉華氏☻\n",
        "\n",
        "請設計一個程式將輸入的攝氏溫度轉成華氏溫度，轉換公式如下:華氏溫度= 攝氏溫度*9/5+32"
      ]
    },
    {
      "cell_type": "code",
      "execution_count": null,
      "metadata": {
        "id": "rr_62dHjU5iK"
      },
      "outputs": [],
      "source": []
    },
    {
      "cell_type": "markdown",
      "metadata": {
        "id": "wpHfqWi8UXAH"
      },
      "source": [
        "**範例4: 服裝訂購系統**\n",
        "\n",
        "假設上衣300元、褲子350元與背心400元，使用者可以自行輸入三種服裝的數量，請設計一個程式計算訂購服裝的總金額。"
      ]
    },
    {
      "cell_type": "code",
      "execution_count": null,
      "metadata": {
        "id": "ZP9bM6jhU5Ct"
      },
      "outputs": [],
      "source": []
    },
    {
      "cell_type": "markdown",
      "metadata": {
        "id": "xteSV7FdU7jr"
      },
      "source": [
        "**【隨堂練習3】: 賣場買飲料**\n",
        "\n",
        "**為了刺激銷售量，賣場通常買一打會比買一罐便宜，假設一罐賣20元，一打賣200元，請設計一個程式計算買幾罐需花多少錢，若不足一打就個別買。**\n",
        "\n",
        "～預覽結果\n",
        "輸入購買飲料的罐數，如「30」，計算結果顯示在螢幕如下。\n",
        "請輸入購買飲料的罐數？30\n",
        "需花費 520"
      ]
    },
    {
      "cell_type": "code",
      "execution_count": null,
      "metadata": {
        "id": "Wve5JrBgVFz3"
      },
      "outputs": [],
      "source": []
    },
    {
      "cell_type": "markdown",
      "metadata": {
        "id": "HH84Y_Hc-dXO"
      },
      "source": [
        "☻加分題：評審打分數☻\n",
        "\n",
        "班上舉行講故事比賽，3位評委為每位選手打分，每位評委打分範圍是0~100分之間的一個分數。最後計算3個評委的平均分數。(選手的最終分數請保留兩位小數。)\n",
        "\n",
        "- 資料：x1, x2, x3\n",
        "- 公式：(x1+x2+x3)/3\n",
        "- 平均成績：mean"
      ]
    },
    {
      "cell_type": "code",
      "execution_count": null,
      "metadata": {
        "id": "u7JEg0pW-dXO"
      },
      "outputs": [],
      "source": []
    },
    {
      "cell_type": "markdown",
      "source": [
        "**【隨堂練習】: 分組報告**\n",
        "\n",
        "因為教學上的需求，老師要將全班40位同學分組做報告。老師規定依座號順序，每五位同學一組。也就是，1號到5號一組，6號到10號一組，以此類推。請寫一個程式允許使用者輸入座號，輸出分組的組別。\n",
        "\n",
        "～預覽結果\n",
        "輸入座號，例如「19」，計算結果顯示在螢幕如下。\n",
        "請輸入座號？19\n",
        "組別為 4\n",
        "\n",
        "＝>**運算思維：模式辨識**\n",
        "\n",
        "1 ，1/5 ......= 0.2  -> 商數0餘數1 ->  0,0\n",
        "\n",
        "2，2/5 ......= 0.4   -> 商數0餘數2 ->  0,1\n",
        "\n",
        "3，3/5 ......= 0.6   ->  商數0餘數3 -> 0,2\n",
        "\n",
        "4， 4/5 ......= 0.8  ->  商數0餘數4 -> 0,3\n",
        "\n",
        "5，5/5 ...... = 1     ->  商數1餘數0 -> 0,4\n"
      ],
      "metadata": {
        "id": "FVsMER6FGCAa"
      }
    },
    {
      "cell_type": "code",
      "source": [],
      "metadata": {
        "id": "ETCkVBApGHfS"
      },
      "execution_count": null,
      "outputs": []
    },
    {
      "cell_type": "markdown",
      "metadata": {
        "id": "WgfUCWye-dXO"
      },
      "source": [
        "**☻加分題：換鈔程式☻**\n",
        "\n",
        "**請設計一個Python程式，能夠讓使用者輸入準備兌換的金額，然後輸出所能兌換的百元、50元紙鈔與10元硬幣的數量。**\n",
        "\n",
        "```\n",
        "請輸入將兌換的金額： 7890\n",
        "百元鈔有78張、五十元鈔有1張、十元鈔有4張\n",
        "```"
      ]
    },
    {
      "cell_type": "code",
      "execution_count": null,
      "metadata": {
        "id": "WnPKH6P5-dXO"
      },
      "outputs": [],
      "source": []
    },
    {
      "cell_type": "markdown",
      "metadata": {
        "id": "h7u-XAkCWRNi"
      },
      "source": [
        "## Ch 7 專題 - 打造你的聊天機器人 - 拆解問題\n",
        "\n",
        "哈囉，大家好。我叫Zyxo64，是一個聊天機器人。\n",
        "在嗜好與興趣方面，我很喜歡美食，也喜歡養動物。\n",
        "很高興有機會來到世新大學，請大家多多指教。\n",
        "\n"
      ]
    },
    {
      "cell_type": "code",
      "execution_count": null,
      "metadata": {
        "id": "NIiCaEGHYO5M"
      },
      "outputs": [],
      "source": []
    },
    {
      "cell_type": "markdown",
      "metadata": {
        "id": "4L17OFuiYZ1v"
      },
      "source": [
        "嗨！妳好，請問大名？：**Francis**。\n",
        "*Francis*，很高興認識你。\n",
        "\n"
      ]
    },
    {
      "cell_type": "code",
      "execution_count": null,
      "metadata": {
        "id": "33BEtKGRYgt6"
      },
      "outputs": [],
      "source": []
    },
    {
      "cell_type": "markdown",
      "metadata": {
        "id": "UVC7NMXCYirh"
      },
      "source": [
        "抱歉，請問一下今年是西元2021年，那是民國幾年呢？：*110*。\n",
        "對！沒錯，謝謝妳！\n",
        "**Francis**，猜猜看我今年幾歲？ ：**18**。\n",
        "哇！你好聰明，我今年的確*18*。\n",
        "再82年我就100歲了。\n",
        "那時候是西元 2103年，也就是民國192年囉！\n",
        "\n"
      ]
    },
    {
      "cell_type": "code",
      "execution_count": null,
      "metadata": {
        "id": "1x84xSr7YmcV"
      },
      "outputs": [],
      "source": []
    },
    {
      "cell_type": "markdown",
      "metadata": {
        "id": "f9XOq5vnYnHo"
      },
      "source": [
        "我喜歡吃巧克力，也喜歡嘗試各種新食物。\n",
        "你呢？你最喜歡的食物是什麼？**:披薩**。\n",
        "我也喜歡 *披薩*。\n",
        "你多久吃一次 *披薩*？**：每天**。\n",
        "真有趣。不知道這樣對健康好不好。\n",
        "\n"
      ]
    },
    {
      "cell_type": "code",
      "execution_count": null,
      "metadata": {
        "id": "I0226_laYq0A"
      },
      "outputs": [],
      "source": []
    },
    {
      "cell_type": "markdown",
      "metadata": {
        "id": "8dXgqD8vYrnf"
      },
      "source": [
        "我最喜歡的動物是長頸鹿。你呢？ **：烏龜**。\n",
        "我不喜歡*烏龜*！\n",
        "不知道 *烏龜* 喜不喜歡吃 *披薩*？\n",
        "\n"
      ]
    },
    {
      "cell_type": "code",
      "execution_count": null,
      "metadata": {
        "id": "hpiWVPqEYuda"
      },
      "outputs": [],
      "source": []
    },
    {
      "cell_type": "markdown",
      "metadata": {
        "id": "f89Y3QFUYvIB"
      },
      "source": [
        "你今天的心情如何？ **：很開心**。\n",
        "可以告訴我你 *開心* 的原因嗎？**因為週末了！** \n",
        "\n",
        "\n"
      ]
    },
    {
      "cell_type": "code",
      "execution_count": null,
      "metadata": {
        "id": "jqtYtIQwYxQi"
      },
      "outputs": [],
      "source": []
    },
    {
      "cell_type": "markdown",
      "metadata": {
        "id": "qWLcmx5KYx8y"
      },
      "source": [
        "祝你週末愉快！\n",
        "我喜歡跟你聊天，現在有點累了，改天再聊吧！！\n",
        "再見 *Francis*！！！"
      ]
    },
    {
      "cell_type": "code",
      "execution_count": null,
      "metadata": {
        "id": "kNQpq1JXYy4O"
      },
      "outputs": [],
      "source": []
    },
    {
      "cell_type": "markdown",
      "metadata": {
        "id": "VE631J7O-dXP"
      },
      "source": [
        "**☻加分題：分糖果遊戲☻**\n",
        "\n",
        "在糖果屋中，有6位小朋友在玩分糖果遊戲。這6位小朋友的編號為1, 2, 3, 4, 5, 6，並按照自己的編號坐在一張圓桌旁。它們身上都有不同的糖果，從1號小朋友開始，將自己的糖果均分成3份，如果有多的就立刻先吃掉，然後自己留1份，其餘2份給身邊的小朋友。接著2號、3號、4號、5號、6號同學這樣做。問一輪後，每位小朋友手上有多少糖果。"
      ]
    },
    {
      "cell_type": "code",
      "source": [],
      "metadata": {
        "id": "HyscYhWNGiEx"
      },
      "execution_count": null,
      "outputs": []
    }
  ],
  "metadata": {
    "colab": {
      "provenance": [],
      "collapsed_sections": [
        "Od3t2o6yFC1c",
        "OeT8arvRFC1g",
        "kTKKmXvqkbpD",
        "RTWupJQ1-dXP"
      ]
    },
    "kernelspec": {
      "display_name": "Python 3",
      "language": "python",
      "name": "python3"
    },
    "language_info": {
      "codemirror_mode": {
        "name": "ipython",
        "version": 3
      },
      "file_extension": ".py",
      "mimetype": "text/x-python",
      "name": "python",
      "nbconvert_exporter": "python",
      "pygments_lexer": "ipython3",
      "version": "3.8.8"
    }
  },
  "nbformat": 4,
  "nbformat_minor": 0
}