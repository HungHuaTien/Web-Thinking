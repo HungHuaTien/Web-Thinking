{
 "cells": [
  {
   "cell_type": "markdown",
   "metadata": {
    "id": "Hv6FE-mtHVLT"
   },
   "source": [
    "## 分組作業名單\n",
    "\n",
    "組長：班級學號姓名\n",
    "\n",
    "成員1：班級學號姓名\n",
    "\n",
    "成員2：班級學號姓名\n",
    "\n",
    "成員3：班級學號姓名\n",
    "\n"
   ]
  },
  {
   "cell_type": "markdown",
   "metadata": {
    "id": "TbVcSacYHT2J"
   },
   "source": [
    "## 課本練習題五題，每題15分。\n",
    "\n",
    "### 1. 實驗1: 密碼檢查器\n",
    "\n",
    "建立一個密碼檢查程式，讓讓使用者不斷嘗試，直到答對為止。用任何密碼來測試你的程式。\n",
    "\n",
    "**虛擬程式碼**\n",
    "\n",
    "從使用者取得密碼\n",
    "\n",
    "密碼錯誤時 顯示錯誤 從使用者取得密碼\n",
    "\n",
    "密碼正確時 顯示正確\n",
    "\n",
    "\n",
    "**範例執行**\n",
    "\n",
    "輸入密碼：python17\n",
    "\n",
    "抱歉，密碼錯誤\n",
    "\n",
    "再次輸入密碼：lab28!\n",
    "\n",
    "抱歉，密碼錯誤\n",
    "\n",
    "再次輸入密碼：secret987\n",
    "\n",
    "成功：密碼正確"
   ]
  },
  {
   "cell_type": "code",
   "execution_count": null,
   "metadata": {
    "id": "5A9FF7fVKHRi"
   },
   "outputs": [],
   "source": []
  },
  {
   "cell_type": "markdown",
   "metadata": {
    "id": "zUGqebhiKMfN"
   },
   "source": [
    "### 2. 實驗2: 貓狗對人類年齡換算器\n",
    "\n",
    "很多人會把貓或狗的年齡換成人類的年齡，其計算方法如下：\n",
    "\n",
    "- 狗1歲=人12歲，狗2歲=人24歲，之後每年加四歲，如狗6歲＝人40歲\n",
    "\n",
    "- 貓1歲=人15歲，貓2歲=人24歲，之後每年加四歲，如貓4歲＝人32歲\n",
    "\n",
    "根據這個資訊，寫一個程式來問使用者寵物是貓或狗，接著問目前年齡，並顯示寵物的對等人類年齡。\n",
    "\n",
    "\n",
    "**虛擬程式碼**\n",
    "\n",
    "無\n",
    "\n",
    "**範例執行**\n",
    "\n",
    "輸入貓或狗：貓。\n",
    "\n",
    "輸入寵物年齡：4。\n",
    "\n",
    "貓的對等人類年齡是32歲"
   ]
  },
  {
   "cell_type": "code",
   "execution_count": null,
   "metadata": {
    "id": "8FcUV-9DMFfE"
   },
   "outputs": [],
   "source": []
  },
  {
   "cell_type": "markdown",
   "metadata": {
    "id": "8TnD1GDrMGss"
   },
   "source": [
    "### 3 實驗3 問答遊戲\n",
    "\n",
    "寫一個程式來問使用者兩個問題，並根據答對題數來給分數。\n",
    "\n",
    "（此題簡化課本問題，只需要兩個問題即可，而不是N個。如果同學能寫N個問題並累積分數，即能回答課本問題者，加學學期成績5分）。\n",
    "\n",
    "**虛擬程式碼**\n",
    "\n",
    "設分數為0\n",
    "\n",
    "以下重複3次\n",
    "\n",
    "- 顯示問題\n",
    "- 從使用者取得答案\n",
    "- 若答案正確  顯示正確、分數增加1\n",
    "- 若答案錯誤  顯示錯誤、顯示正確答案\n",
    "\n",
    "顯示分數\n",
    "\n",
    "**範例執行**\n",
    "\n",
    "秘魯的首都是什麼：利馬\n",
    "\n",
    "答對了\n",
    "\n",
    "最長的河流是什麼：尼羅河\n",
    "\n",
    "答錯了\n",
    "\n",
    "正確答案是亞馬遜河\n",
    "\n",
    "你的分數是1\n",
    "\n"
   ]
  },
  {
   "cell_type": "code",
   "execution_count": null,
   "metadata": {
    "id": "Vq8_uB7sOrt2"
   },
   "outputs": [],
   "source": []
  },
  {
   "cell_type": "markdown",
   "metadata": {
    "id": "v8wmf-ZOOtRu"
   },
   "source": [
    "### 4. 實驗4: 列出任何數字的倍數\n",
    "\n",
    "從0開始顯示使用者所選擇數字的倍數。例如，如果使用者選擇7，就顯示0, 7, 14, 28, 以此類推，直到使用者按下退出。\n",
    "\n",
    "\n",
    "**虛擬程式碼**\n",
    "\n",
    "從使用者取得每多少數一次\n",
    "\n",
    "設n為0\n",
    "\n",
    "取得使用者選擇：退出與否\n",
    "\n",
    "使用者選擇不是離開時執行以下：\n",
    "\n",
    "顯示n，把n增加一次要數的數，取得使用者選擇：退出與否\n",
    "\n",
    "**範例執行**\n",
    "\n",
    "輸入一次要數的數:7\n",
    "\n",
    "輸入return繼續或q退出：0\n",
    "\n",
    "輸入return繼續或q退出：7\n",
    "\n",
    "輸入return繼續或q退出：14\n",
    "\n",
    "輸入return繼續或q退出：21\n",
    "\n",
    "輸入return繼續或q退出：28\n",
    "\n",
    "輸入return繼續或q退出：35\n",
    "\n",
    "輸入return繼續或q退出：42\n",
    "\n",
    "輸入return繼續或q退出：q"
   ]
  },
  {
   "cell_type": "code",
   "execution_count": null,
   "metadata": {
    "id": "Xhl2OpX-Q_LQ"
   },
   "outputs": [],
   "source": []
  },
  {
   "cell_type": "markdown",
   "metadata": {
    "id": "28oCFkJERUjO"
   },
   "source": [
    "### 實驗5:擴充聊天機器人\n",
    "\n",
    "用條件敘述式來改進前一單元的聊天機器人。\n",
    "\n",
    "例如根據使用者開心、傷心、無聊等心情做適當回應。\n",
    "\n",
    "**虛擬程式碼**\n",
    "\n",
    "無\n",
    "\n",
    "**範例執行**\n",
    "\n",
    "你今天心情如何：傷心\n",
    "\n",
    "很遺憾聽到你傷心。你為什麼有這樣的感覺呢？\n"
   ]
  },
  {
   "cell_type": "markdown",
   "metadata": {
    "id": "1fseHyf7ff9W"
   },
   "source": [
    "## 應用設計專題25分：打造你的聊天機器人\n",
    "\n",
    "請你根據本序列單元的專題：打造你的聊天機器人，設計一個你們的聊天機器人。\n",
    "\n",
    "也就是說，請同學先寫腳本，人與機器人的互動內容；然後把這段腳本轉換成Python程式，就變成你們打造的聊天機器人了！"
   ]
  },
  {
   "cell_type": "code",
   "execution_count": null,
   "metadata": {},
   "outputs": [],
   "source": []
  }
 ],
 "metadata": {
  "colab": {
   "name": "第二次分組作業-組長.ipynb",
   "provenance": []
  },
  "kernelspec": {
   "display_name": "Python 3",
   "language": "python",
   "name": "python3"
  },
  "language_info": {
   "codemirror_mode": {
    "name": "ipython",
    "version": 3
   },
   "file_extension": ".py",
   "mimetype": "text/x-python",
   "name": "python",
   "nbconvert_exporter": "python",
   "pygments_lexer": "ipython3",
   "version": "3.8.8"
  }
 },
 "nbformat": 4,
 "nbformat_minor": 1
}
