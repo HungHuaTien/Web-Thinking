{
  "cells": [
    {
      "cell_type": "markdown",
      "id": "88a2ed7f",
      "metadata": {
        "id": "88a2ed7f"
      },
      "source": [
        "# 計數迴圈"
      ]
    },
    {
      "cell_type": "markdown",
      "id": "42bfcc17",
      "metadata": {
        "id": "42bfcc17"
      },
      "source": [
        "### 挑戰題目: 自我介紹\n",
        "\n",
        "請用for迴圈，輸出六位參與者的自我介紹和最喜歡的甜點。\n",
        "\n",
        "- 六位參與者，他們的名字分別是 Mario, Peach, Luigi, Daisy, Toad和Yoshi。\n",
        "\n",
        "- 喜歡的甜點依次為Star Pudding, Peach Pie, Popsicles, Honey Cake, Cookies, Jelly Beans。\n",
        "\n",
        "預期結果如下：\n",
        "\n",
        "Hi, my name is Mario. My favorite dessert is Star Pudding.\n",
        "\n",
        "Hi, my name is Peach. My favorite dessert is Peach Pie. \n",
        "...."
      ]
    },
    {
      "cell_type": "code",
      "source": [
        "## Input Data\n",
        "people = [\"Mario\", \"Peach\", \"Luigi\", \"Daisy\", \"Toad\", \"Yoshi\"]\n",
        "desserts = [\"Star Pudding\", \"Peach Pie\", \"Popsicles\", \"Honey Cake\", \"Cookies\", \"Jelly Beans\"] \n",
        "\n",
        "## Process\n",
        "for index in range(len(people)): # range(0,6,1)\n",
        "\tname = people[index]\n",
        "\tdessert = desserts[index]\n",
        "\tprint(f\"Hi! My name is {name}. My favorite dessert is {dessert}.\")"
      ],
      "metadata": {
        "colab": {
          "base_uri": "https://localhost:8080/"
        },
        "id": "aeq2FT84oCml",
        "outputId": "1822d1fe-45df-4daf-db9c-3c72cf9d609f"
      },
      "id": "aeq2FT84oCml",
      "execution_count": 1,
      "outputs": [
        {
          "output_type": "stream",
          "name": "stdout",
          "text": [
            "Hi! My name is Mario. My favorite dessert is Star Pudding.\n",
            "Hi! My name is Peach. My favorite dessert is Peach Pie.\n",
            "Hi! My name is Luigi. My favorite dessert is Popsicles.\n",
            "Hi! My name is Daisy. My favorite dessert is Honey Cake.\n",
            "Hi! My name is Toad. My favorite dessert is Cookies.\n",
            "Hi! My name is Yoshi. My favorite dessert is Jelly Beans.\n"
          ]
        }
      ]
    },
    {
      "cell_type": "markdown",
      "id": "fe34473d",
      "metadata": {
        "id": "fe34473d"
      },
      "source": [
        "## 1. 計數迴圈(一)"
      ]
    },
    {
      "cell_type": "markdown",
      "id": "5c1d4e5d",
      "metadata": {
        "id": "5c1d4e5d"
      },
      "source": [
        "### 1-1 資料容器 - 串列\n",
        "\n",
        "- 串列將資料放在方括號裡面。\n",
        "- 每個項目都是以逗號分隔。\n",
        "- 串列項目的索引編號$i$從0開始。\n",
        "- 索引編號為$i$的資料用`變數名稱[i]`取得。"
      ]
    },
    {
      "cell_type": "markdown",
      "id": "HGjo8neRnZPj",
      "metadata": {
        "id": "HGjo8neRnZPj"
      },
      "source": [
        "【範例：購物清單】\n",
        "\n",
        "請用串列列出你最喜愛的五樣東西，或五個數字號碼，當成購物清單(shopping_list)！"
      ]
    },
    {
      "cell_type": "code",
      "source": [
        ""
      ],
      "metadata": {
        "id": "HjPKN8aanudt"
      },
      "id": "HjPKN8aanudt",
      "execution_count": null,
      "outputs": []
    },
    {
      "cell_type": "markdown",
      "id": "b9097d67",
      "metadata": {
        "id": "b9097d67"
      },
      "source": [
        "### 1-2   for 迴圈與串列\n",
        "\n",
        "for迴圈會逐次取出串列中每一個元素，再對每一個元素進行運算。\n"
      ]
    },
    {
      "cell_type": "code",
      "execution_count": null,
      "id": "yM-FJTs6noX9",
      "metadata": {
        "id": "yM-FJTs6noX9"
      },
      "outputs": [],
      "source": [
        ""
      ]
    },
    {
      "cell_type": "markdown",
      "id": "3jeCLXtxnoos",
      "metadata": {
        "id": "3jeCLXtxnoos"
      },
      "source": [
        "【範例: 文字串列的索引應用 - 購物清單】\n"
      ]
    },
    {
      "cell_type": "code",
      "execution_count": null,
      "id": "0UA5lPo6nsUx",
      "metadata": {
        "id": "0UA5lPo6nsUx"
      },
      "outputs": [],
      "source": [
        ""
      ]
    },
    {
      "cell_type": "markdown",
      "id": "IhTx-lENnsnq",
      "metadata": {
        "id": "IhTx-lENnsnq"
      },
      "source": [
        "\n",
        "**【隨堂練習1】好朋友名單**\n",
        "\n",
        "請寫一個for迴圈列印自己的好朋友名單，如下:\n",
        "\n",
        "```\n",
        "我有幾位好朋友:\n",
        "Michael 是我的好朋友\n",
        "Tom 是我的好朋友\n",
        "Andy 是我的好朋友\n",
        "June 是我的好朋友\n",
        "Axel 是我的好朋友\n",
        "```"
      ]
    },
    {
      "cell_type": "markdown",
      "id": "d445434d",
      "metadata": {
        "id": "d445434d"
      },
      "source": [
        "## 2.  計數迴圈(二)"
      ]
    },
    {
      "cell_type": "markdown",
      "id": "4dace532",
      "metadata": {
        "id": "4dace532"
      },
      "source": [
        "### 2-1 range函數\n",
        "\n",
        "range()函數可以產生數字序列，給我們某一個範圍的數字清單。\n",
        "\n",
        "**range函數的表示方法:** range（start, stop, step）\n",
        "\n"
      ]
    },
    {
      "cell_type": "markdown",
      "id": "SMpV-_hRouSk",
      "metadata": {
        "id": "SMpV-_hRouSk"
      },
      "source": [
        "【範例：range()函數的使用】\n",
        "\n",
        "\n",
        "\n"
      ]
    },
    {
      "cell_type": "markdown",
      "id": "4e8676b7",
      "metadata": {
        "id": "4e8676b7"
      },
      "source": [
        " **【隨堂練習2】：請用range()函數建立下面的數字串列，並用索引將裡面的項目一一取出。**\n",
        "\n",
        "(1) [0, 1, 2, 3, 4, 5, 6, 7, 8, 9]\n",
        "\n",
        "(2) [0, 2, 4, 6, 8]\n",
        "\n",
        "(3) [5, 7, 9]\n",
        "\n",
        "(4) [0, -1, -2, -3, -4, -5, -6, -7, -8, -9]"
      ]
    },
    {
      "cell_type": "markdown",
      "id": "bjBx7Xffo-V-",
      "metadata": {
        "id": "bjBx7Xffo-V-"
      },
      "source": [
        "### 2-2  for迴圈與range函數\n",
        "\n",
        "- for迴圈透過range函數，指定迴圈變數的初值、終值與遞增( 減) 值。\n",
        "- for迴圈指令的最後面要加「冒號：」，代表底下區塊程式碼的敘述要開始。\n",
        "- forc迴圈區塊程式碼需要縮排，每行一律空四個空格。"
      ]
    },
    {
      "cell_type": "markdown",
      "id": "U2MOn57cpERu",
      "metadata": {
        "id": "U2MOn57cpERu"
      },
      "source": [
        "【範例：文字列印，印出5個Hello。】"
      ]
    },
    {
      "cell_type": "code",
      "execution_count": null,
      "id": "NowYWUM1pGZx",
      "metadata": {
        "id": "NowYWUM1pGZx"
      },
      "outputs": [],
      "source": [
        ""
      ]
    },
    {
      "cell_type": "markdown",
      "id": "9tuzQeXtpGsM",
      "metadata": {
        "id": "9tuzQeXtpGsM"
      },
      "source": [
        "【範例: 數字列印，印出range()函數值的範圍】"
      ]
    },
    {
      "cell_type": "code",
      "source": [
        ""
      ],
      "metadata": {
        "id": "QWYMsZ9dxz8Y"
      },
      "id": "QWYMsZ9dxz8Y",
      "execution_count": null,
      "outputs": []
    },
    {
      "cell_type": "markdown",
      "source": [
        "**【隨堂練習3】**：統計摩天輪旋轉次數\n",
        "\n",
        "小芳在兒童樂園玩摩天輪，她很想知道玩一次摩天輪，到底能轉多少圈。可是她一上摩天輪就緊張，為了不出錯，每次旋轉到最高處，自己拍一張照片。回家後查看照片數，並做好記錄，經過查看照片共統計出摩天輪轉了9次。請問如何用Python語言寫出與下面用手寫做出的相同紀錄。\n",
        "\n",
        "```\n",
        "1 @\n",
        "2 @@\n",
        "3 @@@\n",
        "4 @@@@\n",
        "5 @@@@@\n",
        "6 @@@@@@\n",
        "7 @@@@@@@\n",
        "8 @@@@@@@@\n",
        "9 @@@@@@@@@\n",
        "摩天輪總共轉了 9 圈。\n",
        "```\n"
      ],
      "metadata": {
        "id": "3Gyj4CMNxySs"
      },
      "id": "3Gyj4CMNxySs"
    },
    {
      "cell_type": "code",
      "execution_count": null,
      "id": "58dyEqiXpKqb",
      "metadata": {
        "id": "58dyEqiXpKqb"
      },
      "outputs": [],
      "source": [
        ""
      ]
    },
    {
      "cell_type": "markdown",
      "id": "A9kSRKStpR8y",
      "metadata": {
        "id": "A9kSRKStpR8y"
      },
      "source": [
        "【範例 : 寫一個程式計算數字1到10之和。】"
      ]
    },
    {
      "cell_type": "code",
      "execution_count": null,
      "id": "6vkGmTwvpTgE",
      "metadata": {
        "id": "6vkGmTwvpTgE"
      },
      "outputs": [],
      "source": [
        ""
      ]
    },
    {
      "cell_type": "markdown",
      "id": "7b69a520",
      "metadata": {
        "id": "7b69a520"
      },
      "source": [
        "## 3. 進階迴圈"
      ]
    },
    {
      "cell_type": "markdown",
      "id": "62d1d01a",
      "metadata": {
        "id": "62d1d01a"
      },
      "source": [
        "### 3-1  特殊指令的使用 \n",
        "\n",
        "迴圈在特殊需求下可以使用break、continue（ 與else ）指令。"
      ]
    },
    {
      "cell_type": "markdown",
      "id": "a5cf26ba",
      "metadata": {
        "id": "a5cf26ba"
      },
      "source": [
        "### 3-2  巢狀迴圈\n",
        "\n",
        "巢狀迴圈是多層迴圈，為迴圈內又有迴圈的程式結構。\n",
        "從外層迴圈來看，內層迴圈只是外層迴圈內的動作，因此外層迴圈作用一次，內層迴圈全部都需要執行一次。  "
      ]
    },
    {
      "cell_type": "markdown",
      "id": "is0vilW2pmPD",
      "metadata": {
        "id": "is0vilW2pmPD"
      },
      "source": [
        "【範例：畫星星】\n",
        "\n",
        "```\n",
        "方式一：正常的5列5行\n",
        "＊＊＊＊＊\n",
        "＊＊＊＊＊\n",
        "＊＊＊＊＊\n",
        "＊＊＊＊＊\n",
        "＊＊＊＊＊\n",
        "\n",
        "方式二：左上角的直角三角形\n",
        "＊＊＊＊＊\n",
        "＊＊＊＊\n",
        "＊＊＊\n",
        "＊＊\n",
        "＊\n",
        "\n",
        "方式三：左下角的直角三角形\n",
        "＊\n",
        "＊＊\n",
        "＊＊＊\n",
        "＊＊＊＊\n",
        "＊＊＊＊＊\n",
        "```\n"
      ]
    },
    {
      "cell_type": "markdown",
      "id": "10fecfd3",
      "metadata": {
        "id": "10fecfd3"
      },
      "source": [
        "☻彈性:☻ 列出1到1000不被2也不被3整除的數字\n",
        "\n",
        "列出所有1到1000中不被2也不被3整除的所有數字，即不是2的倍數也不是3的倍數。"
      ]
    },
    {
      "cell_type": "code",
      "execution_count": null,
      "id": "aQCWX1qspxb3",
      "metadata": {
        "id": "aQCWX1qspxb3"
      },
      "outputs": [],
      "source": [
        ""
      ]
    },
    {
      "cell_type": "markdown",
      "id": "urBi9yPfp4sx",
      "metadata": {
        "id": "urBi9yPfp4sx"
      },
      "source": [
        "☻彈性:☻字串拼接成語接龍\n",
        "\n",
        "用Python語言編制一個成語接龍遊戲。玩家輸入成語後，程序會把所有成語拼皆起來，顯示拼接的長龍。\n",
        "\n",
        "例如：收放自如、如花似玉、玉樹臨風、風景宜人"
      ]
    },
    {
      "cell_type": "code",
      "execution_count": null,
      "id": "WWJRERwtqE1j",
      "metadata": {
        "id": "WWJRERwtqE1j"
      },
      "outputs": [],
      "source": [
        ""
      ]
    },
    {
      "cell_type": "markdown",
      "id": "9b0a9ebe",
      "metadata": {
        "id": "9b0a9ebe"
      },
      "source": [
        "# 海龜繪圖\n",
        "\n",
        "(程式在Colab不好執行，要換IDE)"
      ]
    },
    {
      "cell_type": "markdown",
      "id": "4950338c",
      "metadata": {
        "id": "4950338c"
      },
      "source": [
        "## 1. 海龜圖"
      ]
    },
    {
      "cell_type": "markdown",
      "id": "ffe8f601",
      "metadata": {
        "id": "ffe8f601"
      },
      "source": [
        "### 1. 如何在Python畫畫"
      ]
    },
    {
      "cell_type": "markdown",
      "id": "d32b8f86",
      "metadata": {
        "id": "d32b8f86"
      },
      "source": [
        "### 2. 常用指令整理  "
      ]
    },
    {
      "cell_type": "markdown",
      "id": "b46d9808",
      "metadata": {
        "id": "b46d9808"
      },
      "source": [
        "### 3. 做中學"
      ]
    },
    {
      "cell_type": "markdown",
      "id": "r1TRBNGFqf3X",
      "metadata": {
        "id": "r1TRBNGFqf3X"
      },
      "source": [
        "### 3-1 用線條畫出文字"
      ]
    },
    {
      "cell_type": "markdown",
      "id": "ur0vuWh-qtPw",
      "metadata": {
        "id": "ur0vuWh-qtPw"
      },
      "source": [
        "### 3-2 幾何繪圖"
      ]
    },
    {
      "cell_type": "markdown",
      "id": "Y_g0tEp1q3b5",
      "metadata": {
        "id": "Y_g0tEp1q3b5"
      },
      "source": [
        "【範例】：尺寸為100的正方形 - for迴圈"
      ]
    },
    {
      "cell_type": "markdown",
      "id": "Ii7sbYkIq5y9",
      "metadata": {
        "id": "Ii7sbYkIq5y9"
      },
      "source": [
        "【範例】：六個尺寸為100的正方形 - 巢狀迴圈\n",
        "\n",
        "\n",
        "\n"
      ]
    },
    {
      "cell_type": "markdown",
      "id": "145b64ef",
      "metadata": {
        "id": "145b64ef"
      },
      "source": [
        "**【隨堂練習4】：讓我們畫星星**\n",
        "\n",
        "利用turtle模組，以for迴圈畫一顆星星。"
      ]
    },
    {
      "cell_type": "markdown",
      "source": [
        "### 3-3 函數\n",
        "\n",
        "函式或函數(Functions)是可以重複使用的程式碼區塊，讓我們執行相同的功能並回傳結果。"
      ],
      "metadata": {
        "id": "PgImkVkEykm_"
      },
      "id": "PgImkVkEykm_"
    },
    {
      "cell_type": "markdown",
      "source": [
        "【範例: 印出多個星號(20, 30, 與50個星號)】\n"
      ],
      "metadata": {
        "id": "TmzpNqUS0mQE"
      },
      "id": "TmzpNqUS0mQE"
    },
    {
      "cell_type": "code",
      "source": [
        ""
      ],
      "metadata": {
        "id": "Sx1eJj-L0tVp"
      },
      "id": "Sx1eJj-L0tVp",
      "execution_count": null,
      "outputs": []
    },
    {
      "cell_type": "markdown",
      "source": [
        "**使用函數**：\n",
        "\n",
        "- **首先要定義函式**，它是解決某一問題的片段程式。函式的定義先以def開頭，接著函式名稱和小括號及其參數，最後是冒號。\n",
        "\n",
        "- **再來是呼叫函式**。呼叫函數包括函數名和參數，在函數名後面通常會有一對小括號，這對小括號是用來傳遞參數的，參數可以是具體的值，也可以是變數。傳遞參數給定義的函數後，經過函數體代碼的運算處理，可以得到相應的返回值。"
      ],
      "metadata": {
        "id": "0ECRiRyB0t9T"
      },
      "id": "0ECRiRyB0t9T"
    },
    {
      "cell_type": "markdown",
      "source": [
        "要定義一個函式，首先需要描述它的名字及功能。\n",
        "\n",
        "- 先從def關鍵字開始，它會向電腦發出信號表示我們正在編寫函式。def是Define（定義）的縮寫，我們正在定義這函式要做什麼。\n",
        "\n",
        "- 中間有一個空白字元(space) ，否則直譯器會無法區別\n",
        "\n",
        "- 接下來，請為函式命名。記得要選擇一個有意義的名字，清楚地描述函式在做什麼。\n",
        "\n",
        "- 接著，將小括弧()添加到函式名稱後；我們以後可能會在括弧中增加參數。\n",
        "\n",
        "- 最後，冒號(:)顯示以下的縮排程式碼將成為函式的一部份。"
      ],
      "metadata": {
        "id": "_8AHzNqS03Gs"
      },
      "id": "_8AHzNqS03Gs"
    },
    {
      "cell_type": "markdown",
      "source": [
        "呼叫函式很簡單，每當程式中有需要使用函數的地方，寫下函式名稱與括號()就可以呼叫了。\n",
        "\n",
        "- 函數可以自己定義，也可以使用他人所定義的函數。\n",
        "- 他人定義的函數，包括Python內置函數，以及第三方模組。"
      ],
      "metadata": {
        "id": "JGM1a0mZ2LmZ"
      },
      "id": "JGM1a0mZ2LmZ"
    },
    {
      "cell_type": "markdown",
      "source": [
        "【範例：打招呼】\n",
        "\n",
        "我們可以使用`print(\"Hello, person!\")` 來打招呼。\n",
        "無參數與有參數。"
      ],
      "metadata": {
        "id": "7Qy9XqXR2asO"
      },
      "id": "7Qy9XqXR2asO"
    },
    {
      "cell_type": "code",
      "source": [
        ""
      ],
      "metadata": {
        "id": "jDbEou0a2tYn"
      },
      "id": "jDbEou0a2tYn",
      "execution_count": null,
      "outputs": []
    },
    {
      "cell_type": "markdown",
      "source": [
        " 【範例：自訂函式min】\n",
        " \n",
        " 輸入兩個參數a 與b，將較小的數字回傳回來。"
      ],
      "metadata": {
        "id": "ulCv87uy2uAK"
      },
      "id": "ulCv87uy2uAK"
    },
    {
      "cell_type": "code",
      "source": [
        ""
      ],
      "metadata": {
        "id": "R47YAHaD3JhW"
      },
      "id": "R47YAHaD3JhW",
      "execution_count": null,
      "outputs": []
    },
    {
      "cell_type": "markdown",
      "source": [
        "【範例：計算長方形面積】\n",
        "\n",
        "使用者輸入長度與寬度，呼叫自訂的函式area 將長度與寬度傳入，回傳計算結果。"
      ],
      "metadata": {
        "id": "LOHeGraZ3Q8D"
      },
      "id": "LOHeGraZ3Q8D"
    },
    {
      "cell_type": "code",
      "source": [
        ""
      ],
      "metadata": {
        "id": "5uyv6ARu3WUb"
      },
      "id": "5uyv6ARu3WUb",
      "execution_count": null,
      "outputs": []
    },
    {
      "cell_type": "markdown",
      "source": [
        "**【隨堂練習 5：計算1到100的總和】**\n",
        "\n",
        "請用(1)沒有參數、沒有回傳值 (2)沒有參數、有回傳值 (3)有參數、有回傳值"
      ],
      "metadata": {
        "id": "xrmPQ9jy3ciq"
      },
      "id": "xrmPQ9jy3ciq"
    },
    {
      "cell_type": "code",
      "source": [
        ""
      ],
      "metadata": {
        "id": "RcOesRaD3b7q"
      },
      "id": "RcOesRaD3b7q",
      "execution_count": null,
      "outputs": []
    },
    {
      "cell_type": "markdown",
      "id": "bdbc4e55",
      "metadata": {
        "id": "bdbc4e55"
      },
      "source": [
        "## 4. 專題：打造你的藝術傑作\n",
        "\n",
        "(雖然不能執行，還是請同學把專題程式貼到下面，方便批改打成績。）"
      ]
    },
    {
      "cell_type": "code",
      "source": [
        ""
      ],
      "metadata": {
        "id": "Syiw1rCY4ZiQ"
      },
      "id": "Syiw1rCY4ZiQ",
      "execution_count": null,
      "outputs": []
    },
    {
      "cell_type": "markdown",
      "id": "aed32133",
      "metadata": {
        "id": "aed32133"
      },
      "source": [
        "## 5.  熟能生巧"
      ]
    }
  ],
  "metadata": {
    "colab": {
      "name": "A123456789_田弘華_重複結構_運算作業.ipynb",
      "provenance": []
    },
    "kernelspec": {
      "display_name": "Python 3",
      "language": "python",
      "name": "python3"
    },
    "language_info": {
      "codemirror_mode": {
        "name": "ipython",
        "version": 3
      },
      "file_extension": ".py",
      "mimetype": "text/x-python",
      "name": "python",
      "nbconvert_exporter": "python",
      "pygments_lexer": "ipython3",
      "version": "3.8.8"
    }
  },
  "nbformat": 4,
  "nbformat_minor": 5
}