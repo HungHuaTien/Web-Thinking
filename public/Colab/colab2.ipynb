{
 "cells": [
  {
   "cell_type": "markdown",
   "id": "3d456cd3",
   "metadata": {
    "id": "3d456cd3"
   },
   "source": [
    "# 決策主題：條件選擇"
   ]
  },
  {
   "cell_type": "markdown",
   "id": "d7e12ab4",
   "metadata": {
    "id": "d7e12ab4"
   },
   "source": [
    "## 挑戰題目: 博客來購物金額\n",
    "\n",
    "下面是網路購書博客來商店的運費處理方式，請寫一個程式計算消費者總共要該付多少錢？"
   ]
  },
  {
   "cell_type": "code",
   "execution_count": 9,
   "id": "EJuPPT53b15s",
   "metadata": {
    "colab": {
     "base_uri": "https://localhost:8080/"
    },
    "id": "EJuPPT53b15s",
    "outputId": "fe63086c-b018-4f79-f975-4e80b3f8a205"
   },
   "outputs": [
    {
     "name": "stdout",
     "output_type": "stream",
     "text": [
      "請輸入顧客單筆訂單實際消費金額： 500\n",
      "請輸入是否由7-11取貨（是或否）： 否\n",
      "消費者含運費之總付款金額為550\n"
     ]
    }
   ],
   "source": [
    "## 博客來網路購物付款總額\n",
    "buying = int(input(\"請輸入顧客單筆訂單實際消費金額： \"))\n",
    "method = input(\"請輸入是否由7-11取貨（是或否）： \")\n",
    "\n",
    "if method == \"是\":\n",
    "    if buying < 350:\n",
    "        total = buying + 20\n",
    "    else:\n",
    "        total = buying\n",
    "else:\n",
    "    if buying < 490:\n",
    "        total = buying + 65\n",
    "    elif buying < 999:\n",
    "        total = buying + 50\n",
    "    else:\n",
    "        total = buying\n",
    "print(f\"消費者含運費之總付款金額為{total}\")"
   ]
  },
  {
   "cell_type": "markdown",
   "id": "c2ecd7c9",
   "metadata": {
    "id": "c2ecd7c9"
   },
   "source": [
    "## 1. 電腦懂得真與假"
   ]
  },
  {
   "cell_type": "markdown",
   "id": "2414cef1",
   "metadata": {
    "id": "2414cef1"
   },
   "source": [
    "### 1-1. 布林條件式\n",
    "\n",
    "電腦可以決定一個敘述是真(True)還是假(False)。\n",
    "\n",
    "得到True或False結果的任何敘述式，稱為布林條件式。"
   ]
  },
  {
   "cell_type": "markdown",
   "id": "105ddcf4",
   "metadata": {
    "id": "105ddcf4"
   },
   "source": [
    "### 1-2 關係運算子\n",
    "\n",
    "- 常見的關係運算子一共有六個：`==、!=、>、>=、<、<=`。\n",
    "- 由關係運算子所構成的運算式稱為條件運算式。\n",
    "- 使用條件運算式來比較兩個運算元之間的關係時，有 True（真）或是 False（假）兩種結果。"
   ]
  },
  {
   "cell_type": "markdown",
   "id": "5eb5061b",
   "metadata": {
    "id": "aa0b47d0"
   },
   "source": [
    "【範例：請比較7和8之間的關係】\n"
   ]
  },
  {
   "cell_type": "code",
   "execution_count": null,
   "id": "c9e43c56",
   "metadata": {},
   "outputs": [],
   "source": []
  },
  {
   "cell_type": "markdown",
   "id": "91129505",
   "metadata": {
    "id": "91129505"
   },
   "source": [
    "**【隨堂練習1】：請輸入身分證字號，並判斷尾數是否為奇數?**"
   ]
  },
  {
   "cell_type": "code",
   "execution_count": null,
   "id": "c281cc63",
   "metadata": {},
   "outputs": [],
   "source": []
  },
  {
   "cell_type": "markdown",
   "id": "f4280d4e",
   "metadata": {
    "id": "f4280d4e"
   },
   "source": [
    "### 1-3 邏輯運算子\n",
    "\n",
    "邏輯運算子有三種運算子，and（而且）、or（或）、not（相反）。"
   ]
  },
  {
   "cell_type": "markdown",
   "id": "2d78857b",
   "metadata": {
    "id": "2d78857b"
   },
   "source": [
    "【範例: 布林：邏輯運算子】\n"
   ]
  },
  {
   "cell_type": "code",
   "execution_count": null,
   "id": "e61fbae0",
   "metadata": {},
   "outputs": [],
   "source": []
  },
  {
   "cell_type": "markdown",
   "id": "a296f773",
   "metadata": {
    "id": "a296f773"
   },
   "source": [
    " ☻彈性：條件判斷式☻\n",
    "\n",
    "處理10歲(含)以上，18歲(不含)以下的age年齡資料，條件式如何寫？"
   ]
  },
  {
   "cell_type": "code",
   "execution_count": null,
   "id": "3633fea7",
   "metadata": {
    "id": "3633fea7"
   },
   "outputs": [],
   "source": []
  },
  {
   "cell_type": "markdown",
   "id": "66dcafde",
   "metadata": {
    "id": "66dcafde"
   },
   "source": [
    "### 1-4  成員與身份運算子\n",
    "\n",
    " [x in y] : 判斷x是否為y中的一個元素。\n",
    "\n",
    " [x is y] : 判斷變數在電腦記憶體的位置是否相同。"
   ]
  },
  {
   "cell_type": "markdown",
   "id": "310c3690",
   "metadata": {
    "id": "310c3690"
   },
   "source": [
    "【範例：文字是否在字串裡或文字堆裡】"
   ]
  },
  {
   "cell_type": "code",
   "execution_count": null,
   "id": "b29f3974",
   "metadata": {},
   "outputs": [],
   "source": []
  },
  {
   "cell_type": "markdown",
   "id": "f0e23701",
   "metadata": {
    "id": "f0e23701"
   },
   "source": [
    "【範例：數字串列的判斷】    "
   ]
  },
  {
   "cell_type": "code",
   "execution_count": null,
   "id": "1be99bb7",
   "metadata": {},
   "outputs": [],
   "source": []
  },
  {
   "cell_type": "code",
   "execution_count": 6,
   "id": "f90d6d72",
   "metadata": {
    "colab": {
     "base_uri": "https://localhost:8080/"
    },
    "id": "f90d6d72",
    "outputId": "18c09ba8-9d15-43cd-ebcd-3405b169c734"
   },
   "outputs": [
    {
     "name": "stdout",
     "output_type": "stream",
     "text": [
      "True\n",
      "False\n",
      "False\n",
      "True\n"
     ]
    }
   ],
   "source": [
    "x = 1\n",
    "y = [1,2,3] # (1,2,3) [1,2,3] {1,2,3}\n",
    "print(x in y)\n",
    "print(x not in y)\n",
    "\n",
    "print(x is y)\n",
    "print(x is not y)"
   ]
  },
  {
   "cell_type": "markdown",
   "id": "5ecebe29",
   "metadata": {
    "id": "5ecebe29"
   },
   "source": [
    "## 2. 程式設計的輔助工具"
   ]
  },
  {
   "cell_type": "markdown",
   "id": "5c92882a",
   "metadata": {
    "id": "5c92882a"
   },
   "source": [
    "### 2-1 虛擬碼\n",
    "\n",
    "虛擬碼是將演算法執行過程的結構，用接近自然語言的形式描述出來。\n",
    "\n",
    "- 重點是將程式設計的邏輯表達出來。 \n",
    "- 觀念：寫程式≠寫程式碼\n",
    "\n",
    "在寫程式之前，先想好要怎麼做，整理自己的想法，再轉換成程式碼表達。\n",
    "\n",
    "- 初學者寫程式 \n",
    "    - 邊寫程式碼邊想怎麼解 \n",
    "    - 試著套用自己以為學過的語法\n",
    "- 會寫程式的人寫程式\n",
    "    - 先想解法，在腦中構思，通常會有答案，但答案的邏輯還不夠清楚。\n",
    "    - 用虛擬碼把想法的邏輯思路一個步驟一個步驟的弄清楚。\n",
    "    - 再把解法轉換成程式碼。\n",
    "        - 一行程式碼只做一件事\n",
    "        - 善用「循序、選擇、重複」的結構。\n",
    "\n",
    "＝> 虛擬碼是程式碼與想法之間的橋樑，把解法用抽象的方式表示。"
   ]
  },
  {
   "cell_type": "markdown",
   "id": "371f8086",
   "metadata": {
    "id": "371f8086"
   },
   "source": [
    "### 2-2 流程圖\n",
    "\n",
    "流程圖是使用各種不同的圖形、線條及箭頭來描述問題的解決步驟以及進行的順序。即使不懂程式語言，只用簡單的符號，也可以寫出程式執行的邏輯。因此，將流程圖當作寫程式前的準備工作，對程式設計非常有用。\n",
    "\n",
    "\n",
    "\n"
   ]
  },
  {
   "cell_type": "markdown",
   "id": "a3381ad8",
   "metadata": {
    "id": "a3381ad8"
   },
   "source": [
    "## 3. 三種程式結構 "
   ]
  },
  {
   "cell_type": "markdown",
   "id": "eca9dbbe",
   "metadata": {
    "id": "eca9dbbe"
   },
   "source": [
    "**(1)序列結構＝循序結構 Sequence：** 是指程式指令由上到下依序執行的結構。\n",
    "\n",
    "**(2)決策結構＝選擇結構 Decision：** 是指利用布林條件式的真偽來控制程式流程。\n",
    "\n",
    "**(3)重覆結構＝迴圈結構Repetition：** 是以迴圈的方式，在城市的流程中反覆執行某些指令。"
   ]
  },
  {
   "cell_type": "markdown",
   "id": "5e8a7f01",
   "metadata": {
    "id": "5e8a7f01"
   },
   "source": [
    "## 4.  單向選擇\n",
    "\n",
    "單向選擇結構是最簡單的選擇結構，只有一個方向的選擇，如果條件判斷成立，就執行條件為真的動作。**\n",
    "\n",
    "例如：「若週末天氣好的話，我們就去打球」。"
   ]
  },
  {
   "cell_type": "markdown",
   "id": "b2nQYGhZat4S",
   "metadata": {
    "id": "b2nQYGhZat4S"
   },
   "source": [
    "【範例: 判斷成績及格】\n",
    "\n",
    "寫一個程式判斷輸入的成績是否，若是及格則顯示「很好，請繼續保持下去」。"
   ]
  },
  {
   "cell_type": "code",
   "execution_count": null,
   "id": "F2FoX-TAb8pg",
   "metadata": {
    "id": "F2FoX-TAb8pg"
   },
   "outputs": [],
   "source": []
  },
  {
   "cell_type": "markdown",
   "id": "bf8f9db4",
   "metadata": {
    "id": "bf8f9db4"
   },
   "source": [
    "**【隨堂練習2】: 是否加收服務費**\n",
    "\n",
    "若消費金額未滿1200元，加收服務費1成。"
   ]
  },
  {
   "cell_type": "code",
   "execution_count": null,
   "id": "nKsZUbjWb-Is",
   "metadata": {
    "id": "nKsZUbjWb-Is"
   },
   "outputs": [],
   "source": []
  },
  {
   "cell_type": "markdown",
   "id": "0ce074ce",
   "metadata": {
    "id": "0ce074ce"
   },
   "source": [
    "## 5.   雙向選擇\n",
    "\n",
    "雙向選擇結構有兩個方向的選擇：二選一，「如果...就...，否則就...」。**\n",
    "\n",
    "- 如果條件判斷成立，就執行條件為真的動作；\n",
    "- 如果條件判斷不成立，就執行條件為假的動作。\n",
    "\n",
    "例如：「如果週末天氣好的話，我們就出去打球，否則就去看電影」。"
   ]
  },
  {
   "cell_type": "markdown",
   "id": "QEl2vVOxa6ax",
   "metadata": {
    "id": "QEl2vVOxa6ax"
   },
   "source": [
    "【範例: 判斷及格與不及格】\n",
    "\n",
    "寫一個程式判斷並顯示所輸入的成績是及格還是不及格。"
   ]
  },
  {
   "cell_type": "code",
   "execution_count": null,
   "id": "h1RT6i6Zb_Iv",
   "metadata": {
    "id": "h1RT6i6Zb_Iv"
   },
   "outputs": [],
   "source": []
  },
  {
   "cell_type": "markdown",
   "id": "1cb63d20",
   "metadata": {
    "id": "1cb63d20"
   },
   "source": [
    "**【隨堂練習3】: 購物金額**\n",
    "\n",
    "請寫一個程式幫助店家計算顧客所需付出的金額。\n",
    "\n",
    "消費金額，滿2000 打九折，未滿2000 則不打折。"
   ]
  },
  {
   "cell_type": "code",
   "execution_count": null,
   "id": "b963c01e",
   "metadata": {
    "id": "b963c01e"
   },
   "outputs": [],
   "source": []
  },
  {
   "cell_type": "markdown",
   "id": "c24009ac",
   "metadata": {
    "id": "c24009ac"
   },
   "source": [
    "☻彈性：判斷奇偶數☻\n",
    "\n",
    "請寫一個程式判斷輸入的值是奇數還是偶數。"
   ]
  },
  {
   "cell_type": "code",
   "execution_count": null,
   "id": "58bc4d6f",
   "metadata": {
    "id": "58bc4d6f"
   },
   "outputs": [],
   "source": []
  },
  {
   "cell_type": "markdown",
   "id": "272218d7",
   "metadata": {
    "id": "272218d7"
   },
   "source": [
    "## 6. 多向選擇\n",
    "\n",
    "一個問題需要在不同情況做出不同的選擇，就需要使用多向選擇。\n",
    "\n",
    "例如：「如果週末天氣好的話，我們就出去打球；如果週末陰天的話，我們就在附近公園逛逛；否則就去看電影」。"
   ]
  },
  {
   "cell_type": "markdown",
   "id": "yJIZsk5ZbCkD",
   "metadata": {
    "id": "yJIZsk5ZbCkD"
   },
   "source": [
    "【範例：分數與評語】\n",
    "\n",
    "寫一個程式若成績大於等於80 分，評語為「非常好」，否則若成績大於等於60 分，評語為「不錯喔」，否則評語為「要加油」，將以上敘述表示為表格，如下。"
   ]
  },
  {
   "cell_type": "code",
   "execution_count": null,
   "id": "YOxEm-CPcASR",
   "metadata": {
    "id": "YOxEm-CPcASR"
   },
   "outputs": [],
   "source": []
  },
  {
   "cell_type": "markdown",
   "id": "_1m_tVK_bNPE",
   "metadata": {
    "id": "_1m_tVK_bNPE"
   },
   "source": [
    "**隨堂練習4： BMI 計算**\n",
    "\n",
    "請寫一個程式讓使用者輸入身高與體重，顯示BMI 值與肥胖程度。\n",
    "BMI 等於體重（KG）除以身高（M）的平方，而BMI 與肥胖分類標準如下："
   ]
  },
  {
   "cell_type": "code",
   "execution_count": null,
   "id": "Y2FfYiFUcA2s",
   "metadata": {
    "id": "Y2FfYiFUcA2s"
   },
   "outputs": [],
   "source": []
  },
  {
   "cell_type": "markdown",
   "id": "c77daf17",
   "metadata": {
    "id": "c77daf17"
   },
   "source": [
    "☻: 閏年判斷☻\n",
    "\n",
    "輸入西元年份，並判斷該年是否為閏年，即該年多一天。民間有「四年一潤、百年不潤、四百年再潤」的準則。\n",
    "\n",
    "輸入年份「2012」，輸出為「2012是閏年」。\n",
    "\n",
    "～程式執行結果如下。\n",
    "\n",
    "請輸入年份？2012\n",
    "\n",
    "2012 是閏年\n",
    "\n"
   ]
  },
  {
   "cell_type": "code",
   "execution_count": null,
   "id": "5755e1fd",
   "metadata": {
    "id": "5755e1fd"
   },
   "outputs": [],
   "source": []
  },
  {
   "cell_type": "markdown",
   "id": "474f67a3",
   "metadata": {
    "id": "474f67a3"
   },
   "source": [
    "## 7. 巢狀選擇\n",
    "\n",
    "巢狀選擇結構為選擇結構內包含選擇結構，是一種有層次的選擇。在某個條件成立後，才需要再做下一步的條件判斷。\n",
    "\n"
   ]
  },
  {
   "cell_type": "markdown",
   "id": "kfKavZWUbWBq",
   "metadata": {
    "id": "kfKavZWUbWBq"
   },
   "source": [
    "【範例：猜數字遊戲】\n",
    "\n",
    "使用者輸入的數不等於秘密數，則它會看這個數太低或太高，給使用者適當訊息。"
   ]
  },
  {
   "cell_type": "code",
   "execution_count": null,
   "id": "0Ve8WObgeNC6",
   "metadata": {
    "id": "0Ve8WObgeNC6"
   },
   "outputs": [],
   "source": []
  },
  {
   "cell_type": "markdown",
   "id": "S0m2kJD5bbHO",
   "metadata": {
    "id": "S0m2kJD5bbHO"
   },
   "source": [
    "**隨堂練習5: 分數與評語**\n",
    "\n",
    "寫一個程式若成績大於等於80 分，評語為「非常好」；否則若成績大於等於60 分，評語為「不錯喔」；否則評語為「要加油」。"
   ]
  },
  {
   "cell_type": "code",
   "execution_count": null,
   "id": "DE0kPFAzeLIo",
   "metadata": {
    "id": "DE0kPFAzeLIo"
   },
   "outputs": [],
   "source": []
  },
  {
   "cell_type": "markdown",
   "id": "9318d1ec",
   "metadata": {
    "id": "9318d1ec"
   },
   "source": [
    "☻彈性：字串查詢 - 成員查詢 ☻\n",
    "\n",
    "學校網站上公布了參加元旦聯歡晚會的入選演員名單，參加海選的同學都急切地想知道自己是否被選中。用Python編制一個小程序，幫助同學從眾多的名單中查詢自己的入選結果。"
   ]
  },
  {
   "cell_type": "code",
   "execution_count": null,
   "id": "iY5GezCReH0M",
   "metadata": {
    "id": "iY5GezCReH0M"
   },
   "outputs": [],
   "source": []
  },
  {
   "cell_type": "markdown",
   "id": "88fc1f73",
   "metadata": {
    "id": "88fc1f73"
   },
   "source": [
    "**加分題：計程車費**\n",
    "\n",
    "某城市計程車計費3公里以內6元，超過3公里不足10公里、每公里1.8元，超過10公里則超過部分加收50%。此外停車等候每3分鐘收1元，請用Python寫出車費是多少。"
   ]
  },
  {
   "cell_type": "code",
   "execution_count": null,
   "id": "0QtpWnoEeFFG",
   "metadata": {
    "id": "0QtpWnoEeFFG"
   },
   "outputs": [],
   "source": []
  },
  {
   "cell_type": "markdown",
   "id": "4sjbY5evPFZa",
   "metadata": {
    "id": "4sjbY5evPFZa"
   },
   "source": [
    "## 8. 條件迴圈\n",
    "\n",
    "While 條件迴圈: 程式碼要執行的確切次數未知。\n",
    "\n",
    "- 只要布林條件式的判斷結果為True，電腦就會繼續執行迴圈。\n",
    "\n",
    "- 不知道要重複多少次時，就使用條件迴圈。\n",
    "\n",
    "- 分組作業好幾題都用到while迴圈。"
   ]
  },
  {
   "cell_type": "code",
   "execution_count": null,
   "id": "92ccccf0",
   "metadata": {},
   "outputs": [],
   "source": []
  },
  {
   "cell_type": "markdown",
   "id": "1IPZRBqiQEVA",
   "metadata": {
    "id": "1IPZRBqiQEVA"
   },
   "source": [
    "**【範例：列印10次hello】**"
   ]
  },
  {
   "cell_type": "code",
   "execution_count": null,
   "id": "xEOXJ_z3QDR_",
   "metadata": {
    "id": "xEOXJ_z3QDR_"
   },
   "outputs": [],
   "source": []
  },
  {
   "cell_type": "markdown",
   "id": "fa4bd840",
   "metadata": {},
   "source": [
    "**【隨堂練習1】：從1到5逐一列印**"
   ]
  },
  {
   "cell_type": "code",
   "execution_count": null,
   "id": "dc7d4949",
   "metadata": {},
   "outputs": [],
   "source": []
  },
  {
   "cell_type": "markdown",
   "id": "wAqTAgoWgfbU",
   "metadata": {
    "id": "wAqTAgoWgfbU"
   },
   "source": [
    "**【範例:求算1到10之和， 1+2+3+...+8+9+10=?】**\n",
    "\n",
    "\n",
    "\n"
   ]
  },
  {
   "cell_type": "code",
   "execution_count": null,
   "id": "evh80IMigoDo",
   "metadata": {
    "id": "evh80IMigoDo"
   },
   "outputs": [],
   "source": []
  },
  {
   "cell_type": "markdown",
   "id": "b77f11b6",
   "metadata": {},
   "source": [
    "**【隨堂練習2】: 求算1到9奇數之和，1+3+5+7+9=?**"
   ]
  },
  {
   "cell_type": "code",
   "execution_count": null,
   "id": "f45683c2",
   "metadata": {},
   "outputs": [],
   "source": []
  },
  {
   "cell_type": "markdown",
   "id": "9iowG8uugto6",
   "metadata": {
    "id": "9iowG8uugto6"
   },
   "source": [
    "**【範例：求算1到n之和大於50，1+2+3+......+n > 50 的n是多少?】**"
   ]
  },
  {
   "cell_type": "code",
   "execution_count": null,
   "id": "50bc6307",
   "metadata": {},
   "outputs": [],
   "source": []
  },
  {
   "cell_type": "markdown",
   "id": "xS3T3PcZhnFN",
   "metadata": {
    "id": "xS3T3PcZhnFN"
   },
   "source": [
    "無窮迴圈：若迴圈使用while True指令，則測試條件會永遠成立，迴圈將重複無限次。\n",
    "\n",
    "- 若要跳出迴圈，請使用break中斷。"
   ]
  },
  {
   "cell_type": "markdown",
   "id": "MA4UdO1uiFUK",
   "metadata": {
    "id": "MA4UdO1uiFUK"
   },
   "source": [
    "**【範例:猜大猜小遊戲】**\n",
    "\n",
    "兩人(A 與B) 一起玩，A 心中想一個數字，B 猜A 心中所想的數字。 B 每猜一次，A 就回答「猜大一點」、「猜小一點」與「猜中了」，當B 猜到A 所想的數字遊戲就結束。我們可以將此遊戲寫成程式，並假設所猜的數字介於1 到100之間。"
   ]
  },
  {
   "cell_type": "code",
   "execution_count": null,
   "id": "rsNYCT2oiQva",
   "metadata": {
    "id": "rsNYCT2oiQva"
   },
   "outputs": [],
   "source": []
  },
  {
   "cell_type": "markdown",
   "id": "315c2637",
   "metadata": {
    "id": "315c2637"
   },
   "source": [
    "# 打造你的冒險遊戲"
   ]
  },
  {
   "cell_type": "markdown",
   "id": "18cc67a2",
   "metadata": {
    "id": "18cc67a2"
   },
   "source": [
    "#### 題目與程式欣賞: 過去還是未來\n",
    "\n",
    "我們可以用if敘述決定程式碼，創立一個冒險遊戲。這個遊戲讓你透過故事，挑選自己要做什麼，不同的決定將導致不同的結局。為了幫助你開始，可按照 使用下面的程式碼定義遊戲："
   ]
  },
  {
   "cell_type": "code",
   "execution_count": 16,
   "id": "4b33cbeb",
   "metadata": {
    "colab": {
     "base_uri": "https://localhost:8080/"
    },
    "id": "4b33cbeb",
    "outputId": "1ad3108a-28b6-40fe-f2ae-5a1375a02436"
   },
   "outputs": [
    {
     "name": "stdout",
     "output_type": "stream",
     "text": [
      "Enter your name: Tien\n",
      "Welcome to Tien's Choose Your Own Adventure game! As you follow the story, you will be presented with choices that decide your fate. Take care and choose wisely! Let's begin.\n",
      "You find yourself in a dark room with 2 doors. The first door is red, the second is white!\n",
      "Which door do you want to choose? Red or White:  Red\n",
      "Great, you walk through the red door and are now in the future! You meet a scientist who gives you a mission of helping him save the world!\n",
      "What do you want to do? Accept or Decline:  Accept\n",
      "＿＿＿＿＿SUCCESS＿＿＿＿＿：You will helped the scientist save the world!In gratitude, the scientist builds a time machine\n",
      "        and sends you home! \n"
     ]
    }
   ],
   "source": [
    "name = input(\"Enter your name: \")\n",
    "\n",
    "## 遊戲說明\n",
    "print(f\"Welcome to {name}'s Choose Your Own Adventure game! As you follow the story, you will be presented with choices that decide your fate. \\\n",
    "Take care and choose wisely! Let's begin.\")\n",
    "\n",
    "## 遊戲開始\n",
    "print(f\"You find yourself in a dark room with 2 doors. The first door is red, the second is white!\")\n",
    "\n",
    "##　做出你的選擇(雙向巢狀)\n",
    "door_choice = input(\"Which door do you want to choose? Red or White:  \")\n",
    "\n",
    "if door_choice == \"Red\":\n",
    "\tprint(\"Great, you walk through the red door and are now in the future! You meet a scientist who gives you a mission of helping him save the world!\")\n",
    "\t\n",
    "\tchoice_one = input(\"What do you want to do? Accept or Decline:  \")\n",
    "\tif choice_one == \"Accept\":\n",
    "\t\tprint(\"\"\"＿＿＿＿＿SUCCESS＿＿＿＿＿：You will helped the scientist save the world!In gratitude, the scientist builds a time machine\n",
    "        and sends you home! \"\"\")\n",
    "\telse:\n",
    "\t\tprint(\"\"\"______GAME OVER______：Too bad! You declined the sientist's offer and\n",
    "    \tnow you are stuck in the future!\"\"\")\n",
    "\n",
    "else:\n",
    "\tprint(\"Great, you walked through the white door and now you are in the past! You meet a princess who asks you to go on a request.\")\n",
    "\t\n",
    "\tquest_choice = input(\"Do you want to accept her offer and go on the request, or do you want to stay where you are?  Accept or Decline:  \")\n",
    "\t\n",
    "\tif quest_choice == \"Accept\":\n",
    "\t\tprint(\"\"\"＿＿＿＿＿SUCCESS＿＿＿＿＿：Princess thanks you for accepting her offer. You begin the request.\"\"\")\n",
    "\telse:\n",
    "\t\tprint(\"\"\"______GAME OVER _____：Well, I guess your story ends here!\"\"\")"
   ]
  },
  {
   "cell_type": "markdown",
   "id": "d62ff3f2",
   "metadata": {
    "id": "d62ff3f2"
   },
   "source": [
    "### Capstone專題：打造你的冒險遊戲"
   ]
  },
  {
   "cell_type": "markdown",
   "id": "c1468625",
   "metadata": {
    "id": "c1468625"
   },
   "source": [
    "歡迎來到聖塔克魯茲山上冒險遊戲\n",
    "\n",
    "=== === === === ===\n",
    "\n",
    "你現在在加州聖塔克魯茲。\n",
    "\n",
    "你在傍晚一個人爬山。\n",
    "\n",
    "～Question 1：爬山帶什麼？ - 什麼選項？\n",
    "\n",
    "你可以帶一項物品上路：\n",
    "\n",
    "地圖(m)、手電筒(f)、巧克力(c)、繩子(r)或棒子(s)\n",
    "你選哪一個？:**c** "
   ]
  },
  {
   "cell_type": "code",
   "execution_count": null,
   "id": "vqFmk2xLM5GE",
   "metadata": {
    "id": "vqFmk2xLM5GE"
   },
   "outputs": [],
   "source": []
  },
  {
   "cell_type": "markdown",
   "id": "0676625b",
   "metadata": {
    "id": "0676625b"
   },
   "source": [
    "～Question 2：爬山遇險 - 聽到怪聲，要不要冒險？\n",
    "你聽到嗡嗡聲。\n",
    "要尋找聲音來源嗎？輸入y或n：\n",
    "\n",
    "**選擇一：n**\n",
    "好主意。你沒有冒險。\n",
    "你開始走回起點。\n",
    "你發現自己迷路了！\n",
    "身後的聲音越來越大。你開始驚慌！\n",
    "\n",
    "**選擇二：y**\n",
    "你向聲音接近。\n",
    "聲音突然停止。\n",
    "你迷路了！...\n",
    "你嘗試打電話，但沒有訊號！"
   ]
  },
  {
   "cell_type": "code",
   "execution_count": null,
   "id": "3306faa5",
   "metadata": {
    "id": "3306faa5"
   },
   "outputs": [],
   "source": []
  },
  {
   "cell_type": "markdown",
   "id": "44e10189",
   "metadata": {
    "id": "44e10189"
   },
   "source": [
    "～**選擇二：y + 後續故事**\n",
    "\n",
    "Q: 迷路電話不通，選擇前進方向\n",
    "\n",
    "**你要往那個方向前進？ 北(NORTH)、南(SOUTH)、東(EAST)或西(WEST)：**\n",
    "\n",
    "**（１）後續故事第1種：若選北NORTH**\n",
    "你抵達廢棄小屋。\n",
    "若選地圖，你用地圖找到回家之路。\n",
    "恭喜！你破關了。\n",
    "\n",
    "～如果你有地圖，就能找到從這裡回家的路。\n",
    "---你還在迷路！你輸了。---\n",
    "\n",
    "**（２）後續故事第2種，若選南SOUTH**\n",
    "你抵達有斷橋的河流。\n",
    "若選繩子或棒子，你選了可以修好橋樑的物品。\n",
    "你修好橋樑、過橋，並找到回家的路。\n",
    "恭喜！你破關了。\n",
    "\n",
    "～如果你有繩子或棒子，就能修好橋樑。\n",
    "---你還是在迷路。你輸了。---\n",
    "\n",
    "**（３）後續故事第3種，若選西WEST**\n",
    "你走路時被傾倒的樹絆倒。\n",
    "你腳受傷了。你坐下等待救援。\n",
    "\n",
    "～這可能要花很久時間。你還在迷路。\n",
    "---你輸了。---\n",
    "\n",
    "**（４）後續故事第4種，若選東EAST，即其他選項**\n",
    "你抵達公路邊。很暗。\n",
    "若選手電筒，你用手電筒發出訊號。\n",
    "一輛車停下來，載你回家。\n",
    "恭喜你！你破關了，安全回到家。\n",
    "\n",
    "～如果你有手電筒，就能發出求救訊號。\n",
    "---你還是在迷路。你輸了---"
   ]
  },
  {
   "cell_type": "code",
   "execution_count": null,
   "id": "awlVWJE0OFwH",
   "metadata": {
    "id": "awlVWJE0OFwH"
   },
   "outputs": [],
   "source": []
  },
  {
   "cell_type": "markdown",
   "id": "e5d689cc",
   "metadata": {
    "id": "e5d689cc"
   },
   "source": [
    "～**選擇一：n + 後續故事**\n",
    "\n",
    "要開始跑(r)或停下來打電話(c)?: **c**\n",
    "電話不通。\n",
    "你拼命地快跑，而聲音越來越大。\n",
    "\n",
    "＝＝＝\n",
    "\n",
    "一個女人騎電動機車從後面接近你。\n",
    "她問：「我最喜歡的電腦程式語言是什麼？」：\n",
    "\n",
    "**答案I. Python**\n",
    "她說：「沒錯，*Python* 是我最喜歡的程式語言。如果你有巧克力，我可以幫你。」\n",
    "\n",
    "(1)幸運的是，你當初選對了！\n",
    "你把巧克力給她。\n",
    "她幫助你回家。\n",
    "恭喜！你成功脫身。你破關了！\n",
    "\n",
    "(2)沒有巧克力，當初應該選巧克力才對。\n",
    "   她騎車走了，留下孤單的你。\n",
    "   你輸了。\n",
    "\n",
    "**答案II. 其他答案，答錯了**\n",
    "  她不喜歡你的回答。\n",
    "  他騎車走了，留下迷路的你。\n",
    "  你輸了。"
   ]
  },
  {
   "cell_type": "code",
   "execution_count": null,
   "id": "KCWTo_d-NUNH",
   "metadata": {
    "id": "KCWTo_d-NUNH"
   },
   "outputs": [],
   "source": []
  }
 ],
 "metadata": {
  "colab": {
   "history_visible": true,
   "name": "A123456789_田弘華_選擇結構_個人作業.ipynb",
   "provenance": []
  },
  "kernelspec": {
   "display_name": "Python 3 (ipykernel)",
   "language": "python",
   "name": "python3"
  },
  "language_info": {
   "codemirror_mode": {
    "name": "ipython",
    "version": 3
   },
   "file_extension": ".py",
   "mimetype": "text/x-python",
   "name": "python",
   "nbconvert_exporter": "python",
   "pygments_lexer": "ipython3",
   "version": "3.9.7"
  }
 },
 "nbformat": 4,
 "nbformat_minor": 5
}
